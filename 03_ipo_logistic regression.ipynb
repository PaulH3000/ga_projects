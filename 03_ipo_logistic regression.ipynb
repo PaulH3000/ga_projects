{
 "cells": [
  {
   "cell_type": "markdown",
   "metadata": {},
   "source": [
    "## IPO Dataset: Logistic Regression\n",
    "- Binary classification model\n",
    "- Goal: predict whether opening day price change from open to close for an IPO exceeds given threshold %\n",
    "- by Paul H."
   ]
  },
  {
   "cell_type": "markdown",
   "metadata": {},
   "source": [
    "### Data Import and Cleaning"
   ]
  },
  {
   "cell_type": "code",
   "execution_count": 261,
   "metadata": {
    "collapsed": true
   },
   "outputs": [],
   "source": [
    "#initial public offering dataset\n",
    "import pandas as pd\n",
    "import numpy as np\n",
    "import matplotlib.pyplot as plt\n",
    "import seaborn as sns"
   ]
  },
  {
   "cell_type": "code",
   "execution_count": 2,
   "metadata": {
    "collapsed": true
   },
   "outputs": [],
   "source": [
    "df = pd.read_csv('ipo_scoop.csv', usecols=[0, 1, 2, 3, 4, 5, 6, 7, 8, 9, 10, 11], skiprows=2, names=['date', 'issuer', 'symbol', 'managers', 'offer_price', 'open_price', 'first_day_close', 'first_day_pctchg', 'dollar_change_open', 'dollar_change_close', 'star_rating', 'performed'])"
   ]
  },
  {
   "cell_type": "code",
   "execution_count": 3,
   "metadata": {
    "collapsed": true
   },
   "outputs": [],
   "source": [
    "#drop rows that contain all NA's\n",
    "df.dropna(axis=0, how='all', inplace=True)"
   ]
  },
  {
   "cell_type": "code",
   "execution_count": 4,
   "metadata": {},
   "outputs": [
    {
     "name": "stdout",
     "output_type": "stream",
     "text": [
      "<class 'pandas.core.frame.DataFrame'>\n",
      "Int64Index: 3123 entries, 0 to 3122\n",
      "Data columns (total 12 columns):\n",
      "date                   3123 non-null object\n",
      "issuer                 3123 non-null object\n",
      "symbol                 3123 non-null object\n",
      "managers               3123 non-null object\n",
      "offer_price            3123 non-null object\n",
      "open_price             3123 non-null object\n",
      "first_day_close        3123 non-null object\n",
      "first_day_pctchg       3123 non-null object\n",
      "dollar_change_open     3123 non-null object\n",
      "dollar_change_close    3123 non-null object\n",
      "star_rating            3123 non-null object\n",
      "performed              357 non-null object\n",
      "dtypes: object(12)\n",
      "memory usage: 317.2+ KB\n"
     ]
    }
   ],
   "source": [
    "df.info()"
   ]
  },
  {
   "cell_type": "code",
   "execution_count": 5,
   "metadata": {},
   "outputs": [
    {
     "data": {
      "text/html": [
       "<div>\n",
       "<style>\n",
       "    .dataframe thead tr:only-child th {\n",
       "        text-align: right;\n",
       "    }\n",
       "\n",
       "    .dataframe thead th {\n",
       "        text-align: left;\n",
       "    }\n",
       "\n",
       "    .dataframe tbody tr th {\n",
       "        vertical-align: top;\n",
       "    }\n",
       "</style>\n",
       "<table border=\"1\" class=\"dataframe\">\n",
       "  <thead>\n",
       "    <tr style=\"text-align: right;\">\n",
       "      <th></th>\n",
       "      <th>date</th>\n",
       "      <th>issuer</th>\n",
       "      <th>symbol</th>\n",
       "      <th>managers</th>\n",
       "      <th>offer_price</th>\n",
       "      <th>open_price</th>\n",
       "      <th>first_day_close</th>\n",
       "      <th>first_day_pctchg</th>\n",
       "      <th>dollar_change_open</th>\n",
       "      <th>dollar_change_close</th>\n",
       "      <th>star_rating</th>\n",
       "      <th>performed</th>\n",
       "    </tr>\n",
       "  </thead>\n",
       "  <tbody>\n",
       "    <tr>\n",
       "      <th>0</th>\n",
       "      <td>2/16/18</td>\n",
       "      <td>Farmmi</td>\n",
       "      <td>FAMI</td>\n",
       "      <td>ViewTrade Securities</td>\n",
       "      <td>$4.00</td>\n",
       "      <td>$4.40</td>\n",
       "      <td>$6.18</td>\n",
       "      <td>54.50%</td>\n",
       "      <td>$0.40</td>\n",
       "      <td>$2.18</td>\n",
       "      <td>N/C</td>\n",
       "      <td>NaN</td>\n",
       "    </tr>\n",
       "    <tr>\n",
       "      <th>1</th>\n",
       "      <td>3/16/18</td>\n",
       "      <td>Senmiao Technology</td>\n",
       "      <td>AIHS</td>\n",
       "      <td>ViewTrade Securities</td>\n",
       "      <td>$4.00</td>\n",
       "      <td>$5.51</td>\n",
       "      <td>$5.56</td>\n",
       "      <td>39.00%</td>\n",
       "      <td>$1.51</td>\n",
       "      <td>$1.56</td>\n",
       "      <td>1</td>\n",
       "      <td>Missed</td>\n",
       "    </tr>\n",
       "    <tr>\n",
       "      <th>2</th>\n",
       "      <td>3/20/18</td>\n",
       "      <td>Golden Bull</td>\n",
       "      <td>DNJR</td>\n",
       "      <td>ViewTrade Securities</td>\n",
       "      <td>$4.00</td>\n",
       "      <td>$5.20</td>\n",
       "      <td>$4.62</td>\n",
       "      <td>15.50%</td>\n",
       "      <td>$1.20</td>\n",
       "      <td>$0.62</td>\n",
       "      <td>N/C</td>\n",
       "      <td>NaN</td>\n",
       "    </tr>\n",
       "    <tr>\n",
       "      <th>3</th>\n",
       "      <td>2/14/18</td>\n",
       "      <td>Motus GI Holdings</td>\n",
       "      <td>MOTS</td>\n",
       "      <td>Piper Jaffray/ Oppenheimer</td>\n",
       "      <td>$5.00</td>\n",
       "      <td>$5.00</td>\n",
       "      <td>$4.38</td>\n",
       "      <td>-12.40%</td>\n",
       "      <td>$0.00</td>\n",
       "      <td>-$0.62</td>\n",
       "      <td>1</td>\n",
       "      <td>NaN</td>\n",
       "    </tr>\n",
       "    <tr>\n",
       "      <th>4</th>\n",
       "      <td>2/1/18</td>\n",
       "      <td>One Stop Systems</td>\n",
       "      <td>OSS</td>\n",
       "      <td>Roth Capital Partners</td>\n",
       "      <td>$5.00</td>\n",
       "      <td>$5.55</td>\n",
       "      <td>$4.88</td>\n",
       "      <td>-2.40%</td>\n",
       "      <td>$0.55</td>\n",
       "      <td>-$0.12</td>\n",
       "      <td>1</td>\n",
       "      <td>NaN</td>\n",
       "    </tr>\n",
       "  </tbody>\n",
       "</table>\n",
       "</div>"
      ],
      "text/plain": [
       "      date               issuer symbol                    managers  \\\n",
       "0  2/16/18               Farmmi   FAMI        ViewTrade Securities   \n",
       "1  3/16/18  Senmiao Technology    AIHS        ViewTrade Securities   \n",
       "2  3/20/18          Golden Bull   DNJR        ViewTrade Securities   \n",
       "3  2/14/18   Motus GI Holdings    MOTS  Piper Jaffray/ Oppenheimer   \n",
       "4   2/1/18    One Stop Systems     OSS       Roth Capital Partners   \n",
       "\n",
       "  offer_price open_price first_day_close first_day_pctchg dollar_change_open  \\\n",
       "0       $4.00      $4.40           $6.18           54.50%              $0.40   \n",
       "1       $4.00      $5.51           $5.56           39.00%              $1.51   \n",
       "2       $4.00      $5.20           $4.62           15.50%              $1.20   \n",
       "3       $5.00      $5.00           $4.38          -12.40%              $0.00   \n",
       "4       $5.00      $5.55           $4.88           -2.40%              $0.55   \n",
       "\n",
       "  dollar_change_close star_rating performed  \n",
       "0               $2.18         N/C       NaN  \n",
       "1               $1.56           1    Missed  \n",
       "2               $0.62         N/C       NaN  \n",
       "3              -$0.62           1       NaN  \n",
       "4              -$0.12           1       NaN  "
      ]
     },
     "execution_count": 5,
     "metadata": {},
     "output_type": "execute_result"
    }
   ],
   "source": [
    "df.head() "
   ]
  },
  {
   "cell_type": "code",
   "execution_count": 6,
   "metadata": {
    "collapsed": true
   },
   "outputs": [],
   "source": [
    "#Clean data: convert everything to numbers: remove $ signs, etc\n",
    "df = df.applymap(lambda x: x if not '$' in str(x) else x.replace('$', ''))"
   ]
  },
  {
   "cell_type": "code",
   "execution_count": 7,
   "metadata": {
    "collapsed": true
   },
   "outputs": [],
   "source": [
    "df = df.applymap(lambda x: x if not '%' in str(x) else x.replace('%', ''))"
   ]
  },
  {
   "cell_type": "code",
   "execution_count": 8,
   "metadata": {},
   "outputs": [
    {
     "data": {
      "text/html": [
       "<div>\n",
       "<style>\n",
       "    .dataframe thead tr:only-child th {\n",
       "        text-align: right;\n",
       "    }\n",
       "\n",
       "    .dataframe thead th {\n",
       "        text-align: left;\n",
       "    }\n",
       "\n",
       "    .dataframe tbody tr th {\n",
       "        vertical-align: top;\n",
       "    }\n",
       "</style>\n",
       "<table border=\"1\" class=\"dataframe\">\n",
       "  <thead>\n",
       "    <tr style=\"text-align: right;\">\n",
       "      <th></th>\n",
       "      <th>date</th>\n",
       "      <th>issuer</th>\n",
       "      <th>symbol</th>\n",
       "      <th>managers</th>\n",
       "      <th>offer_price</th>\n",
       "      <th>open_price</th>\n",
       "      <th>first_day_close</th>\n",
       "      <th>first_day_pctchg</th>\n",
       "      <th>dollar_change_open</th>\n",
       "      <th>dollar_change_close</th>\n",
       "      <th>star_rating</th>\n",
       "      <th>performed</th>\n",
       "    </tr>\n",
       "  </thead>\n",
       "  <tbody>\n",
       "    <tr>\n",
       "      <th>0</th>\n",
       "      <td>2/16/18</td>\n",
       "      <td>Farmmi</td>\n",
       "      <td>FAMI</td>\n",
       "      <td>ViewTrade Securities</td>\n",
       "      <td>4.00</td>\n",
       "      <td>4.40</td>\n",
       "      <td>6.18</td>\n",
       "      <td>54.50</td>\n",
       "      <td>0.40</td>\n",
       "      <td>2.18</td>\n",
       "      <td>N/C</td>\n",
       "      <td>NaN</td>\n",
       "    </tr>\n",
       "    <tr>\n",
       "      <th>1</th>\n",
       "      <td>3/16/18</td>\n",
       "      <td>Senmiao Technology</td>\n",
       "      <td>AIHS</td>\n",
       "      <td>ViewTrade Securities</td>\n",
       "      <td>4.00</td>\n",
       "      <td>5.51</td>\n",
       "      <td>5.56</td>\n",
       "      <td>39.00</td>\n",
       "      <td>1.51</td>\n",
       "      <td>1.56</td>\n",
       "      <td>1</td>\n",
       "      <td>Missed</td>\n",
       "    </tr>\n",
       "    <tr>\n",
       "      <th>2</th>\n",
       "      <td>3/20/18</td>\n",
       "      <td>Golden Bull</td>\n",
       "      <td>DNJR</td>\n",
       "      <td>ViewTrade Securities</td>\n",
       "      <td>4.00</td>\n",
       "      <td>5.20</td>\n",
       "      <td>4.62</td>\n",
       "      <td>15.50</td>\n",
       "      <td>1.20</td>\n",
       "      <td>0.62</td>\n",
       "      <td>N/C</td>\n",
       "      <td>NaN</td>\n",
       "    </tr>\n",
       "    <tr>\n",
       "      <th>3</th>\n",
       "      <td>2/14/18</td>\n",
       "      <td>Motus GI Holdings</td>\n",
       "      <td>MOTS</td>\n",
       "      <td>Piper Jaffray/ Oppenheimer</td>\n",
       "      <td>5.00</td>\n",
       "      <td>5.00</td>\n",
       "      <td>4.38</td>\n",
       "      <td>-12.40</td>\n",
       "      <td>0.00</td>\n",
       "      <td>-0.62</td>\n",
       "      <td>1</td>\n",
       "      <td>NaN</td>\n",
       "    </tr>\n",
       "    <tr>\n",
       "      <th>4</th>\n",
       "      <td>2/1/18</td>\n",
       "      <td>One Stop Systems</td>\n",
       "      <td>OSS</td>\n",
       "      <td>Roth Capital Partners</td>\n",
       "      <td>5.00</td>\n",
       "      <td>5.55</td>\n",
       "      <td>4.88</td>\n",
       "      <td>-2.40</td>\n",
       "      <td>0.55</td>\n",
       "      <td>-0.12</td>\n",
       "      <td>1</td>\n",
       "      <td>NaN</td>\n",
       "    </tr>\n",
       "  </tbody>\n",
       "</table>\n",
       "</div>"
      ],
      "text/plain": [
       "      date               issuer symbol                    managers  \\\n",
       "0  2/16/18               Farmmi   FAMI        ViewTrade Securities   \n",
       "1  3/16/18  Senmiao Technology    AIHS        ViewTrade Securities   \n",
       "2  3/20/18          Golden Bull   DNJR        ViewTrade Securities   \n",
       "3  2/14/18   Motus GI Holdings    MOTS  Piper Jaffray/ Oppenheimer   \n",
       "4   2/1/18    One Stop Systems     OSS       Roth Capital Partners   \n",
       "\n",
       "  offer_price open_price first_day_close first_day_pctchg dollar_change_open  \\\n",
       "0        4.00       4.40            6.18            54.50               0.40   \n",
       "1        4.00       5.51            5.56            39.00               1.51   \n",
       "2        4.00       5.20            4.62            15.50               1.20   \n",
       "3        5.00       5.00            4.38           -12.40               0.00   \n",
       "4        5.00       5.55            4.88            -2.40               0.55   \n",
       "\n",
       "  dollar_change_close star_rating performed  \n",
       "0                2.18         N/C       NaN  \n",
       "1                1.56           1    Missed  \n",
       "2                0.62         N/C       NaN  \n",
       "3               -0.62           1       NaN  \n",
       "4               -0.12           1       NaN  "
      ]
     },
     "execution_count": 8,
     "metadata": {},
     "output_type": "execute_result"
    }
   ],
   "source": [
    "df.head()"
   ]
  },
  {
   "cell_type": "code",
   "execution_count": 9,
   "metadata": {
    "collapsed": true
   },
   "outputs": [],
   "source": [
    "#Convert dates to datetime format\n",
    "#df.date = pd.to_datetime(df.date) # throws error indicating the corrupt date"
   ]
  },
  {
   "cell_type": "code",
   "execution_count": 10,
   "metadata": {},
   "outputs": [
    {
     "data": {
      "text/html": [
       "<div>\n",
       "<style>\n",
       "    .dataframe thead tr:only-child th {\n",
       "        text-align: right;\n",
       "    }\n",
       "\n",
       "    .dataframe thead th {\n",
       "        text-align: left;\n",
       "    }\n",
       "\n",
       "    .dataframe tbody tr th {\n",
       "        vertical-align: top;\n",
       "    }\n",
       "</style>\n",
       "<table border=\"1\" class=\"dataframe\">\n",
       "  <thead>\n",
       "    <tr style=\"text-align: right;\">\n",
       "      <th></th>\n",
       "      <th>date</th>\n",
       "      <th>issuer</th>\n",
       "      <th>symbol</th>\n",
       "      <th>managers</th>\n",
       "      <th>offer_price</th>\n",
       "      <th>open_price</th>\n",
       "      <th>first_day_close</th>\n",
       "      <th>first_day_pctchg</th>\n",
       "      <th>dollar_change_open</th>\n",
       "      <th>dollar_change_close</th>\n",
       "      <th>star_rating</th>\n",
       "      <th>performed</th>\n",
       "    </tr>\n",
       "  </thead>\n",
       "  <tbody>\n",
       "    <tr>\n",
       "      <th>1258</th>\n",
       "      <td>11/120</td>\n",
       "      <td>Alon USA Partners, LP</td>\n",
       "      <td>ALDW</td>\n",
       "      <td>Goldman, Sachs/ Credit Suisse/ Citigroup</td>\n",
       "      <td>16.00</td>\n",
       "      <td>17.00</td>\n",
       "      <td>18.40</td>\n",
       "      <td>15.00</td>\n",
       "      <td>1.00</td>\n",
       "      <td>2.40</td>\n",
       "      <td>1</td>\n",
       "      <td>NaN</td>\n",
       "    </tr>\n",
       "  </tbody>\n",
       "</table>\n",
       "</div>"
      ],
      "text/plain": [
       "        date                  issuer symbol  \\\n",
       "1258  11/120  Alon USA Partners, LP    ALDW   \n",
       "\n",
       "                                      managers offer_price open_price  \\\n",
       "1258  Goldman, Sachs/ Credit Suisse/ Citigroup       16.00      17.00   \n",
       "\n",
       "     first_day_close first_day_pctchg dollar_change_open dollar_change_close  \\\n",
       "1258           18.40            15.00               1.00                2.40   \n",
       "\n",
       "     star_rating performed  \n",
       "1258           1       NaN  "
      ]
     },
     "execution_count": 10,
     "metadata": {},
     "output_type": "execute_result"
    }
   ],
   "source": [
    "df[df['date'] == '11/120'] #this should be Nov-20, fix it"
   ]
  },
  {
   "cell_type": "code",
   "execution_count": 11,
   "metadata": {
    "collapsed": true
   },
   "outputs": [],
   "source": [
    "df.loc[1258, 'date'] = '2012-11-20'"
   ]
  },
  {
   "cell_type": "code",
   "execution_count": 12,
   "metadata": {
    "collapsed": true
   },
   "outputs": [],
   "source": [
    "df['date'] = pd.to_datetime(df['date'])"
   ]
  },
  {
   "cell_type": "code",
   "execution_count": 13,
   "metadata": {},
   "outputs": [
    {
     "name": "stdout",
     "output_type": "stream",
     "text": [
      "<class 'pandas.core.frame.DataFrame'>\n",
      "Int64Index: 3123 entries, 0 to 3122\n",
      "Data columns (total 12 columns):\n",
      "date                   3123 non-null datetime64[ns]\n",
      "issuer                 3123 non-null object\n",
      "symbol                 3123 non-null object\n",
      "managers               3123 non-null object\n",
      "offer_price            3123 non-null object\n",
      "open_price             3123 non-null object\n",
      "first_day_close        3123 non-null object\n",
      "first_day_pctchg       3123 non-null object\n",
      "dollar_change_open     3123 non-null object\n",
      "dollar_change_close    3123 non-null object\n",
      "star_rating            3123 non-null object\n",
      "performed              357 non-null object\n",
      "dtypes: datetime64[ns](1), object(11)\n",
      "memory usage: 397.2+ KB\n"
     ]
    }
   ],
   "source": [
    "df.info()"
   ]
  },
  {
   "cell_type": "code",
   "execution_count": 14,
   "metadata": {
    "collapsed": true
   },
   "outputs": [],
   "source": [
    "df['offer_price'] = df['offer_price'].astype('float')"
   ]
  },
  {
   "cell_type": "code",
   "execution_count": 15,
   "metadata": {
    "collapsed": true
   },
   "outputs": [],
   "source": [
    "df['open_price'] = df['open_price'].astype('float')\n",
    "df['first_day_close'] = df['first_day_close'].astype('float')"
   ]
  },
  {
   "cell_type": "code",
   "execution_count": 16,
   "metadata": {},
   "outputs": [
    {
     "data": {
      "text/plain": [
       "Index(['date', 'issuer', 'symbol', 'managers', 'offer_price', 'open_price',\n",
       "       'first_day_close', 'first_day_pctchg', 'dollar_change_open',\n",
       "       'dollar_change_close', 'star_rating', 'performed'],\n",
       "      dtype='object')"
      ]
     },
     "execution_count": 16,
     "metadata": {},
     "output_type": "execute_result"
    }
   ],
   "source": [
    "df.columns"
   ]
  },
  {
   "cell_type": "code",
   "execution_count": 17,
   "metadata": {
    "collapsed": true
   },
   "outputs": [],
   "source": [
    "df.replace('N/C', 0, inplace=True)"
   ]
  },
  {
   "cell_type": "code",
   "execution_count": 18,
   "metadata": {
    "collapsed": true
   },
   "outputs": [],
   "source": [
    "#convert everything to numbers\n",
    "for col in df.columns[4:11]:\n",
    "    df[col] = df[col].astype('float')"
   ]
  },
  {
   "cell_type": "code",
   "execution_count": 19,
   "metadata": {
    "collapsed": true
   },
   "outputs": [],
   "source": [
    "#do more cleaning, some data looks corrupt\n",
    "df['dollar_change_close'] = df.first_day_close - df.offer_price\n",
    "df['dollar_change_open'] = df.open_price - df.offer_price\n",
    "df['first_day_pctchg'] = (df.dollar_change_close / df.offer_price) * 100"
   ]
  },
  {
   "cell_type": "code",
   "execution_count": 20,
   "metadata": {},
   "outputs": [
    {
     "name": "stdout",
     "output_type": "stream",
     "text": [
      "<class 'pandas.core.frame.DataFrame'>\n",
      "Int64Index: 3123 entries, 0 to 3122\n",
      "Data columns (total 12 columns):\n",
      "date                   3123 non-null datetime64[ns]\n",
      "issuer                 3123 non-null object\n",
      "symbol                 3123 non-null object\n",
      "managers               3123 non-null object\n",
      "offer_price            3123 non-null float64\n",
      "open_price             3123 non-null float64\n",
      "first_day_close        3123 non-null float64\n",
      "first_day_pctchg       3123 non-null float64\n",
      "dollar_change_open     3123 non-null float64\n",
      "dollar_change_close    3123 non-null float64\n",
      "star_rating            3123 non-null float64\n",
      "performed              357 non-null object\n",
      "dtypes: datetime64[ns](1), float64(7), object(4)\n",
      "memory usage: 397.2+ KB\n"
     ]
    }
   ],
   "source": [
    "df.info()"
   ]
  },
  {
   "cell_type": "code",
   "execution_count": null,
   "metadata": {
    "collapsed": true
   },
   "outputs": [],
   "source": []
  },
  {
   "cell_type": "markdown",
   "metadata": {},
   "source": [
    "### EDA & Feature Engineering"
   ]
  },
  {
   "cell_type": "code",
   "execution_count": 21,
   "metadata": {},
   "outputs": [
    {
     "data": {
      "text/plain": [
       "date\n",
       "2000    35.571613\n",
       "2001    12.761385\n",
       "2002     7.231533\n",
       "2003    11.945106\n",
       "2004    10.703301\n",
       "2005     9.911079\n",
       "2006     9.988616\n",
       "2007    11.521496\n",
       "2008     2.318174\n",
       "2009     7.175558\n",
       "2010     8.654902\n",
       "2011     9.044531\n",
       "2012    11.981650\n",
       "2013    16.353141\n",
       "2014    12.363209\n",
       "2015    13.947164\n",
       "2016    10.979816\n",
       "2017    10.537344\n",
       "2018    14.417572\n",
       "Name: first_day_pctchg, dtype: float64"
      ]
     },
     "execution_count": 21,
     "metadata": {},
     "output_type": "execute_result"
    }
   ],
   "source": [
    "#avg pct change on IPO day\n",
    "df.groupby(df.date.dt.year)['first_day_pctchg'].mean()"
   ]
  },
  {
   "cell_type": "code",
   "execution_count": 22,
   "metadata": {
    "collapsed": true
   },
   "outputs": [],
   "source": [
    "mean_year_first = df.groupby(df.date.dt.year)['first_day_pctchg'].mean()"
   ]
  },
  {
   "cell_type": "code",
   "execution_count": 23,
   "metadata": {},
   "outputs": [
    {
     "data": {
      "text/plain": [
       "<matplotlib.axes._subplots.AxesSubplot at 0xc02d5c0>"
      ]
     },
     "execution_count": 23,
     "metadata": {},
     "output_type": "execute_result"
    },
    {
     "data": {
      "image/png": "[encoded data removed]",
      "text/plain": [
       "<matplotlib.figure.Figure at 0xc0a47f0>"
      ]
     },
     "metadata": {},
     "output_type": "display_data"
    }
   ],
   "source": [
    "%matplotlib inline\n",
    "mean_year_first.plot(kind = 'bar', color = 'lightblue', figsize = (9, 5), title = 'IPO Performance First Day %Change')"
   ]
  },
  {
   "cell_type": "code",
   "execution_count": 24,
   "metadata": {},
   "outputs": [
    {
     "data": {
      "text/plain": [
       "<matplotlib.axes._subplots.AxesSubplot at 0xc9b7048>"
      ]
     },
     "execution_count": 24,
     "metadata": {},
     "output_type": "execute_result"
    },
    {
     "data": {
      "image/png": "[encoded data removed]",
      "text/plain": [
       "<matplotlib.figure.Figure at 0xc9bdcc0>"
      ]
     },
     "metadata": {},
     "output_type": "display_data"
    }
   ],
   "source": [
    "#data is skewed (long tail)\n",
    "df.first_day_pctchg.hist(bins = 100, figsize = (8, 5))"
   ]
  },
  {
   "cell_type": "code",
   "execution_count": 25,
   "metadata": {
    "collapsed": true
   },
   "outputs": [],
   "source": [
    "#make new columns\n",
    "df['dollar_chg_opencls'] = df['first_day_close'] - df['open_price']\n",
    "df['pct_chg_opencls'] = (df['dollar_chg_opencls']/df['open_price']) * 100\n",
    "# = pct change on IPO day from the open price, not the offer price"
   ]
  },
  {
   "cell_type": "code",
   "execution_count": 26,
   "metadata": {},
   "outputs": [
    {
     "data": {
      "text/html": [
       "<div>\n",
       "<style>\n",
       "    .dataframe thead tr:only-child th {\n",
       "        text-align: right;\n",
       "    }\n",
       "\n",
       "    .dataframe thead th {\n",
       "        text-align: left;\n",
       "    }\n",
       "\n",
       "    .dataframe tbody tr th {\n",
       "        vertical-align: top;\n",
       "    }\n",
       "</style>\n",
       "<table border=\"1\" class=\"dataframe\">\n",
       "  <thead>\n",
       "    <tr style=\"text-align: right;\">\n",
       "      <th></th>\n",
       "      <th>date</th>\n",
       "      <th>issuer</th>\n",
       "      <th>symbol</th>\n",
       "      <th>managers</th>\n",
       "      <th>offer_price</th>\n",
       "      <th>open_price</th>\n",
       "      <th>first_day_close</th>\n",
       "      <th>first_day_pctchg</th>\n",
       "      <th>dollar_change_open</th>\n",
       "      <th>dollar_change_close</th>\n",
       "      <th>star_rating</th>\n",
       "      <th>performed</th>\n",
       "      <th>dollar_chg_opencls</th>\n",
       "      <th>pct_chg_opencls</th>\n",
       "    </tr>\n",
       "  </thead>\n",
       "  <tbody>\n",
       "    <tr>\n",
       "      <th>0</th>\n",
       "      <td>2018-02-16</td>\n",
       "      <td>Farmmi</td>\n",
       "      <td>FAMI</td>\n",
       "      <td>ViewTrade Securities</td>\n",
       "      <td>4.0</td>\n",
       "      <td>4.40</td>\n",
       "      <td>6.18</td>\n",
       "      <td>54.5</td>\n",
       "      <td>0.40</td>\n",
       "      <td>2.18</td>\n",
       "      <td>0.0</td>\n",
       "      <td>NaN</td>\n",
       "      <td>1.78</td>\n",
       "      <td>40.454545</td>\n",
       "    </tr>\n",
       "    <tr>\n",
       "      <th>1</th>\n",
       "      <td>2018-03-16</td>\n",
       "      <td>Senmiao Technology</td>\n",
       "      <td>AIHS</td>\n",
       "      <td>ViewTrade Securities</td>\n",
       "      <td>4.0</td>\n",
       "      <td>5.51</td>\n",
       "      <td>5.56</td>\n",
       "      <td>39.0</td>\n",
       "      <td>1.51</td>\n",
       "      <td>1.56</td>\n",
       "      <td>1.0</td>\n",
       "      <td>Missed</td>\n",
       "      <td>0.05</td>\n",
       "      <td>0.907441</td>\n",
       "    </tr>\n",
       "    <tr>\n",
       "      <th>2</th>\n",
       "      <td>2018-03-20</td>\n",
       "      <td>Golden Bull</td>\n",
       "      <td>DNJR</td>\n",
       "      <td>ViewTrade Securities</td>\n",
       "      <td>4.0</td>\n",
       "      <td>5.20</td>\n",
       "      <td>4.62</td>\n",
       "      <td>15.5</td>\n",
       "      <td>1.20</td>\n",
       "      <td>0.62</td>\n",
       "      <td>0.0</td>\n",
       "      <td>NaN</td>\n",
       "      <td>-0.58</td>\n",
       "      <td>-11.153846</td>\n",
       "    </tr>\n",
       "    <tr>\n",
       "      <th>3</th>\n",
       "      <td>2018-02-14</td>\n",
       "      <td>Motus GI Holdings</td>\n",
       "      <td>MOTS</td>\n",
       "      <td>Piper Jaffray/ Oppenheimer</td>\n",
       "      <td>5.0</td>\n",
       "      <td>5.00</td>\n",
       "      <td>4.38</td>\n",
       "      <td>-12.4</td>\n",
       "      <td>0.00</td>\n",
       "      <td>-0.62</td>\n",
       "      <td>1.0</td>\n",
       "      <td>NaN</td>\n",
       "      <td>-0.62</td>\n",
       "      <td>-12.400000</td>\n",
       "    </tr>\n",
       "    <tr>\n",
       "      <th>4</th>\n",
       "      <td>2018-02-01</td>\n",
       "      <td>One Stop Systems</td>\n",
       "      <td>OSS</td>\n",
       "      <td>Roth Capital Partners</td>\n",
       "      <td>5.0</td>\n",
       "      <td>5.55</td>\n",
       "      <td>4.88</td>\n",
       "      <td>-2.4</td>\n",
       "      <td>0.55</td>\n",
       "      <td>-0.12</td>\n",
       "      <td>1.0</td>\n",
       "      <td>NaN</td>\n",
       "      <td>-0.67</td>\n",
       "      <td>-12.072072</td>\n",
       "    </tr>\n",
       "  </tbody>\n",
       "</table>\n",
       "</div>"
      ],
      "text/plain": [
       "        date               issuer symbol                    managers  \\\n",
       "0 2018-02-16               Farmmi   FAMI        ViewTrade Securities   \n",
       "1 2018-03-16  Senmiao Technology    AIHS        ViewTrade Securities   \n",
       "2 2018-03-20          Golden Bull   DNJR        ViewTrade Securities   \n",
       "3 2018-02-14   Motus GI Holdings    MOTS  Piper Jaffray/ Oppenheimer   \n",
       "4 2018-02-01    One Stop Systems     OSS       Roth Capital Partners   \n",
       "\n",
       "   offer_price  open_price  first_day_close  first_day_pctchg  \\\n",
       "0          4.0        4.40             6.18              54.5   \n",
       "1          4.0        5.51             5.56              39.0   \n",
       "2          4.0        5.20             4.62              15.5   \n",
       "3          5.0        5.00             4.38             -12.4   \n",
       "4          5.0        5.55             4.88              -2.4   \n",
       "\n",
       "   dollar_change_open  dollar_change_close  star_rating performed  \\\n",
       "0                0.40                 2.18          0.0       NaN   \n",
       "1                1.51                 1.56          1.0    Missed   \n",
       "2                1.20                 0.62          0.0       NaN   \n",
       "3                0.00                -0.62          1.0       NaN   \n",
       "4                0.55                -0.12          1.0       NaN   \n",
       "\n",
       "   dollar_chg_opencls  pct_chg_opencls  \n",
       "0                1.78        40.454545  \n",
       "1                0.05         0.907441  \n",
       "2               -0.58       -11.153846  \n",
       "3               -0.62       -12.400000  \n",
       "4               -0.67       -12.072072  "
      ]
     },
     "execution_count": 26,
     "metadata": {},
     "output_type": "execute_result"
    }
   ],
   "source": [
    "df.head()"
   ]
  },
  {
   "cell_type": "code",
   "execution_count": 27,
   "metadata": {},
   "outputs": [
    {
     "data": {
      "text/plain": [
       "count    3123.000000\n",
       "mean        1.336246\n",
       "std        10.726671\n",
       "min       -49.281222\n",
       "25%        -2.880558\n",
       "50%         0.000000\n",
       "75%         4.000000\n",
       "max       159.417476\n",
       "Name: pct_chg_opencls, dtype: float64"
      ]
     },
     "execution_count": 27,
     "metadata": {},
     "output_type": "execute_result"
    }
   ],
   "source": [
    "df.pct_chg_opencls.describe() "
   ]
  },
  {
   "cell_type": "code",
   "execution_count": 28,
   "metadata": {
    "collapsed": true
   },
   "outputs": [],
   "source": [
    "#sort on date, and change index to date\n",
    "df.sort_values('date', inplace = True)\n",
    "df.set_index(keys='date', drop=False, inplace=True)"
   ]
  },
  {
   "cell_type": "code",
   "execution_count": 29,
   "metadata": {},
   "outputs": [
    {
     "data": {
      "text/plain": [
       "<matplotlib.axes._subplots.AxesSubplot at 0xcab8b38>"
      ]
     },
     "execution_count": 29,
     "metadata": {},
     "output_type": "execute_result"
    },
    {
     "data": {
      "image/png": "[encoded data removed]",
      "text/plain": [
       "<matplotlib.figure.Figure at 0xcb13a20>"
      ]
     },
     "metadata": {},
     "output_type": "display_data"
    }
   ],
   "source": [
    "#pct_chg_opencls looks more symmetric, with few outliers\n",
    "df.pct_chg_opencls.hist(bins= 100)"
   ]
  },
  {
   "cell_type": "code",
   "execution_count": 30,
   "metadata": {},
   "outputs": [
    {
     "data": {
      "text/plain": [
       "count    3123.000000\n",
       "mean        1.336246\n",
       "std        10.726671\n",
       "min       -49.281222\n",
       "25%        -2.880558\n",
       "50%         0.000000\n",
       "75%         4.000000\n",
       "max       159.417476\n",
       "Name: pct_chg_opencls, dtype: float64"
      ]
     },
     "execution_count": 30,
     "metadata": {},
     "output_type": "execute_result"
    }
   ],
   "source": [
    "df.pct_chg_opencls.describe()"
   ]
  },
  {
   "cell_type": "code",
   "execution_count": 31,
   "metadata": {
    "collapsed": true
   },
   "outputs": [],
   "source": [
    "#new feature = gap at open / offer price\n",
    "df['gap_open_pct'] = (df['dollar_change_open']/df['offer_price'])*100"
   ]
  },
  {
   "cell_type": "code",
   "execution_count": 32,
   "metadata": {},
   "outputs": [
    {
     "name": "stdout",
     "output_type": "stream",
     "text": [
      "<class 'pandas.core.frame.DataFrame'>\n",
      "DatetimeIndex: 3123 entries, 2000-05-12 to 2018-08-10\n",
      "Data columns (total 15 columns):\n",
      "date                   3123 non-null datetime64[ns]\n",
      "issuer                 3123 non-null object\n",
      "symbol                 3123 non-null object\n",
      "managers               3123 non-null object\n",
      "offer_price            3123 non-null float64\n",
      "open_price             3123 non-null float64\n",
      "first_day_close        3123 non-null float64\n",
      "first_day_pctchg       3123 non-null float64\n",
      "dollar_change_open     3123 non-null float64\n",
      "dollar_change_close    3123 non-null float64\n",
      "star_rating            3123 non-null float64\n",
      "performed              357 non-null object\n",
      "dollar_chg_opencls     3123 non-null float64\n",
      "pct_chg_opencls        3123 non-null float64\n",
      "gap_open_pct           3123 non-null float64\n",
      "dtypes: datetime64[ns](1), float64(10), object(4)\n",
      "memory usage: 470.4+ KB\n"
     ]
    }
   ],
   "source": [
    "df.info()"
   ]
  },
  {
   "cell_type": "code",
   "execution_count": null,
   "metadata": {
    "collapsed": true
   },
   "outputs": [],
   "source": []
  },
  {
   "cell_type": "markdown",
   "metadata": {},
   "source": [
    "#### Add S&P500 performance as new feature"
   ]
  },
  {
   "cell_type": "code",
   "execution_count": 33,
   "metadata": {
    "collapsed": true
   },
   "outputs": [],
   "source": [
    "sp = pd.read_csv('SPY.csv')"
   ]
  },
  {
   "cell_type": "code",
   "execution_count": 34,
   "metadata": {
    "collapsed": true
   },
   "outputs": [],
   "source": [
    "sp.sort_values('Date', inplace = True)\n",
    "sp.reset_index(drop= True, inplace = True)"
   ]
  },
  {
   "cell_type": "code",
   "execution_count": 35,
   "metadata": {
    "collapsed": true
   },
   "outputs": [],
   "source": [
    "#column names\n",
    "sp.rename(columns={\"Adj Close\":\"Adj_Close\"}, inplace=True)"
   ]
  },
  {
   "cell_type": "code",
   "execution_count": 36,
   "metadata": {},
   "outputs": [
    {
     "data": {
      "text/html": [
       "<div>\n",
       "<style>\n",
       "    .dataframe thead tr:only-child th {\n",
       "        text-align: right;\n",
       "    }\n",
       "\n",
       "    .dataframe thead th {\n",
       "        text-align: left;\n",
       "    }\n",
       "\n",
       "    .dataframe tbody tr th {\n",
       "        vertical-align: top;\n",
       "    }\n",
       "</style>\n",
       "<table border=\"1\" class=\"dataframe\">\n",
       "  <thead>\n",
       "    <tr style=\"text-align: right;\">\n",
       "      <th></th>\n",
       "      <th>Date</th>\n",
       "      <th>Open</th>\n",
       "      <th>High</th>\n",
       "      <th>Low</th>\n",
       "      <th>Close</th>\n",
       "      <th>Adj_Close</th>\n",
       "      <th>Volume</th>\n",
       "    </tr>\n",
       "  </thead>\n",
       "  <tbody>\n",
       "    <tr>\n",
       "      <th>0</th>\n",
       "      <td>2000-01-03</td>\n",
       "      <td>148.250000</td>\n",
       "      <td>148.250000</td>\n",
       "      <td>143.875000</td>\n",
       "      <td>145.437500</td>\n",
       "      <td>102.930847</td>\n",
       "      <td>8164300</td>\n",
       "    </tr>\n",
       "    <tr>\n",
       "      <th>1</th>\n",
       "      <td>2000-01-04</td>\n",
       "      <td>143.531204</td>\n",
       "      <td>144.062500</td>\n",
       "      <td>139.640594</td>\n",
       "      <td>139.750000</td>\n",
       "      <td>98.905685</td>\n",
       "      <td>8089800</td>\n",
       "    </tr>\n",
       "    <tr>\n",
       "      <th>2</th>\n",
       "      <td>2000-01-05</td>\n",
       "      <td>139.937500</td>\n",
       "      <td>141.531204</td>\n",
       "      <td>137.250000</td>\n",
       "      <td>140.000000</td>\n",
       "      <td>99.082603</td>\n",
       "      <td>12177900</td>\n",
       "    </tr>\n",
       "    <tr>\n",
       "      <th>3</th>\n",
       "      <td>2000-01-06</td>\n",
       "      <td>139.625000</td>\n",
       "      <td>141.500000</td>\n",
       "      <td>137.750000</td>\n",
       "      <td>137.750000</td>\n",
       "      <td>97.490211</td>\n",
       "      <td>6227200</td>\n",
       "    </tr>\n",
       "    <tr>\n",
       "      <th>4</th>\n",
       "      <td>2000-01-07</td>\n",
       "      <td>140.312500</td>\n",
       "      <td>145.750000</td>\n",
       "      <td>140.062500</td>\n",
       "      <td>145.750000</td>\n",
       "      <td>103.152069</td>\n",
       "      <td>8066500</td>\n",
       "    </tr>\n",
       "    <tr>\n",
       "      <th>5</th>\n",
       "      <td>2000-01-10</td>\n",
       "      <td>146.250000</td>\n",
       "      <td>146.906204</td>\n",
       "      <td>145.031204</td>\n",
       "      <td>146.250000</td>\n",
       "      <td>103.505920</td>\n",
       "      <td>5741700</td>\n",
       "    </tr>\n",
       "    <tr>\n",
       "      <th>6</th>\n",
       "      <td>2000-01-11</td>\n",
       "      <td>145.812500</td>\n",
       "      <td>146.093704</td>\n",
       "      <td>143.500000</td>\n",
       "      <td>144.500000</td>\n",
       "      <td>102.267410</td>\n",
       "      <td>7503700</td>\n",
       "    </tr>\n",
       "    <tr>\n",
       "      <th>7</th>\n",
       "      <td>2000-01-12</td>\n",
       "      <td>144.593704</td>\n",
       "      <td>144.593704</td>\n",
       "      <td>142.875000</td>\n",
       "      <td>143.062500</td>\n",
       "      <td>101.249992</td>\n",
       "      <td>6907700</td>\n",
       "    </tr>\n",
       "    <tr>\n",
       "      <th>8</th>\n",
       "      <td>2000-01-13</td>\n",
       "      <td>144.468704</td>\n",
       "      <td>145.750000</td>\n",
       "      <td>143.281204</td>\n",
       "      <td>145.000000</td>\n",
       "      <td>102.621277</td>\n",
       "      <td>5158300</td>\n",
       "    </tr>\n",
       "    <tr>\n",
       "      <th>9</th>\n",
       "      <td>2000-01-14</td>\n",
       "      <td>146.531204</td>\n",
       "      <td>147.468704</td>\n",
       "      <td>145.968704</td>\n",
       "      <td>146.968704</td>\n",
       "      <td>104.014618</td>\n",
       "      <td>7437300</td>\n",
       "    </tr>\n",
       "  </tbody>\n",
       "</table>\n",
       "</div>"
      ],
      "text/plain": [
       "         Date        Open        High         Low       Close   Adj_Close  \\\n",
       "0  2000-01-03  148.250000  148.250000  143.875000  145.437500  102.930847   \n",
       "1  2000-01-04  143.531204  144.062500  139.640594  139.750000   98.905685   \n",
       "2  2000-01-05  139.937500  141.531204  137.250000  140.000000   99.082603   \n",
       "3  2000-01-06  139.625000  141.500000  137.750000  137.750000   97.490211   \n",
       "4  2000-01-07  140.312500  145.750000  140.062500  145.750000  103.152069   \n",
       "5  2000-01-10  146.250000  146.906204  145.031204  146.250000  103.505920   \n",
       "6  2000-01-11  145.812500  146.093704  143.500000  144.500000  102.267410   \n",
       "7  2000-01-12  144.593704  144.593704  142.875000  143.062500  101.249992   \n",
       "8  2000-01-13  144.468704  145.750000  143.281204  145.000000  102.621277   \n",
       "9  2000-01-14  146.531204  147.468704  145.968704  146.968704  104.014618   \n",
       "\n",
       "     Volume  \n",
       "0   8164300  \n",
       "1   8089800  \n",
       "2  12177900  \n",
       "3   6227200  \n",
       "4   8066500  \n",
       "5   5741700  \n",
       "6   7503700  \n",
       "7   6907700  \n",
       "8   5158300  \n",
       "9   7437300  "
      ]
     },
     "execution_count": 36,
     "metadata": {},
     "output_type": "execute_result"
    }
   ],
   "source": [
    "sp.head(10)"
   ]
  },
  {
   "cell_type": "code",
   "execution_count": 37,
   "metadata": {
    "collapsed": true
   },
   "outputs": [],
   "source": [
    "sp['day_ago'] = sp.Date.shift(periods=1)\n",
    "sp['week_ago'] = sp.Date.shift(periods = 6) # 5 trading days in week"
   ]
  },
  {
   "cell_type": "code",
   "execution_count": 38,
   "metadata": {},
   "outputs": [
    {
     "data": {
      "text/html": [
       "<div>\n",
       "<style>\n",
       "    .dataframe thead tr:only-child th {\n",
       "        text-align: right;\n",
       "    }\n",
       "\n",
       "    .dataframe thead th {\n",
       "        text-align: left;\n",
       "    }\n",
       "\n",
       "    .dataframe tbody tr th {\n",
       "        vertical-align: top;\n",
       "    }\n",
       "</style>\n",
       "<table border=\"1\" class=\"dataframe\">\n",
       "  <thead>\n",
       "    <tr style=\"text-align: right;\">\n",
       "      <th></th>\n",
       "      <th>Date</th>\n",
       "      <th>Open</th>\n",
       "      <th>High</th>\n",
       "      <th>Low</th>\n",
       "      <th>Close</th>\n",
       "      <th>Adj_Close</th>\n",
       "      <th>Volume</th>\n",
       "      <th>day_ago</th>\n",
       "      <th>week_ago</th>\n",
       "    </tr>\n",
       "  </thead>\n",
       "  <tbody>\n",
       "    <tr>\n",
       "      <th>0</th>\n",
       "      <td>2000-01-03</td>\n",
       "      <td>148.250000</td>\n",
       "      <td>148.250000</td>\n",
       "      <td>143.875000</td>\n",
       "      <td>145.4375</td>\n",
       "      <td>102.930847</td>\n",
       "      <td>8164300</td>\n",
       "      <td>NaN</td>\n",
       "      <td>NaN</td>\n",
       "    </tr>\n",
       "    <tr>\n",
       "      <th>1</th>\n",
       "      <td>2000-01-04</td>\n",
       "      <td>143.531204</td>\n",
       "      <td>144.062500</td>\n",
       "      <td>139.640594</td>\n",
       "      <td>139.7500</td>\n",
       "      <td>98.905685</td>\n",
       "      <td>8089800</td>\n",
       "      <td>2000-01-03</td>\n",
       "      <td>NaN</td>\n",
       "    </tr>\n",
       "    <tr>\n",
       "      <th>2</th>\n",
       "      <td>2000-01-05</td>\n",
       "      <td>139.937500</td>\n",
       "      <td>141.531204</td>\n",
       "      <td>137.250000</td>\n",
       "      <td>140.0000</td>\n",
       "      <td>99.082603</td>\n",
       "      <td>12177900</td>\n",
       "      <td>2000-01-04</td>\n",
       "      <td>NaN</td>\n",
       "    </tr>\n",
       "    <tr>\n",
       "      <th>3</th>\n",
       "      <td>2000-01-06</td>\n",
       "      <td>139.625000</td>\n",
       "      <td>141.500000</td>\n",
       "      <td>137.750000</td>\n",
       "      <td>137.7500</td>\n",
       "      <td>97.490211</td>\n",
       "      <td>6227200</td>\n",
       "      <td>2000-01-05</td>\n",
       "      <td>NaN</td>\n",
       "    </tr>\n",
       "    <tr>\n",
       "      <th>4</th>\n",
       "      <td>2000-01-07</td>\n",
       "      <td>140.312500</td>\n",
       "      <td>145.750000</td>\n",
       "      <td>140.062500</td>\n",
       "      <td>145.7500</td>\n",
       "      <td>103.152069</td>\n",
       "      <td>8066500</td>\n",
       "      <td>2000-01-06</td>\n",
       "      <td>NaN</td>\n",
       "    </tr>\n",
       "  </tbody>\n",
       "</table>\n",
       "</div>"
      ],
      "text/plain": [
       "         Date        Open        High         Low     Close   Adj_Close  \\\n",
       "0  2000-01-03  148.250000  148.250000  143.875000  145.4375  102.930847   \n",
       "1  2000-01-04  143.531204  144.062500  139.640594  139.7500   98.905685   \n",
       "2  2000-01-05  139.937500  141.531204  137.250000  140.0000   99.082603   \n",
       "3  2000-01-06  139.625000  141.500000  137.750000  137.7500   97.490211   \n",
       "4  2000-01-07  140.312500  145.750000  140.062500  145.7500  103.152069   \n",
       "\n",
       "     Volume     day_ago week_ago  \n",
       "0   8164300         NaN      NaN  \n",
       "1   8089800  2000-01-03      NaN  \n",
       "2  12177900  2000-01-04      NaN  \n",
       "3   6227200  2000-01-05      NaN  \n",
       "4   8066500  2000-01-06      NaN  "
      ]
     },
     "execution_count": 38,
     "metadata": {},
     "output_type": "execute_result"
    }
   ],
   "source": [
    "sp.head()"
   ]
  },
  {
   "cell_type": "code",
   "execution_count": 39,
   "metadata": {
    "collapsed": true
   },
   "outputs": [],
   "source": [
    "sp['day_ago_close'] = sp.Adj_Close.shift(periods = 1)"
   ]
  },
  {
   "cell_type": "code",
   "execution_count": 40,
   "metadata": {
    "collapsed": true
   },
   "outputs": [],
   "source": [
    "sp['week_ago_close'] = sp.Adj_Close.shift(periods = 6)"
   ]
  },
  {
   "cell_type": "code",
   "execution_count": 41,
   "metadata": {},
   "outputs": [
    {
     "data": {
      "text/html": [
       "<div>\n",
       "<style>\n",
       "    .dataframe thead tr:only-child th {\n",
       "        text-align: right;\n",
       "    }\n",
       "\n",
       "    .dataframe thead th {\n",
       "        text-align: left;\n",
       "    }\n",
       "\n",
       "    .dataframe tbody tr th {\n",
       "        vertical-align: top;\n",
       "    }\n",
       "</style>\n",
       "<table border=\"1\" class=\"dataframe\">\n",
       "  <thead>\n",
       "    <tr style=\"text-align: right;\">\n",
       "      <th></th>\n",
       "      <th>Date</th>\n",
       "      <th>Open</th>\n",
       "      <th>High</th>\n",
       "      <th>Low</th>\n",
       "      <th>Close</th>\n",
       "      <th>Adj_Close</th>\n",
       "      <th>Volume</th>\n",
       "      <th>day_ago</th>\n",
       "      <th>week_ago</th>\n",
       "      <th>day_ago_close</th>\n",
       "      <th>week_ago_close</th>\n",
       "    </tr>\n",
       "  </thead>\n",
       "  <tbody>\n",
       "    <tr>\n",
       "      <th>0</th>\n",
       "      <td>2000-01-03</td>\n",
       "      <td>148.250000</td>\n",
       "      <td>148.250000</td>\n",
       "      <td>143.875000</td>\n",
       "      <td>145.4375</td>\n",
       "      <td>102.930847</td>\n",
       "      <td>8164300</td>\n",
       "      <td>NaN</td>\n",
       "      <td>NaN</td>\n",
       "      <td>NaN</td>\n",
       "      <td>NaN</td>\n",
       "    </tr>\n",
       "    <tr>\n",
       "      <th>1</th>\n",
       "      <td>2000-01-04</td>\n",
       "      <td>143.531204</td>\n",
       "      <td>144.062500</td>\n",
       "      <td>139.640594</td>\n",
       "      <td>139.7500</td>\n",
       "      <td>98.905685</td>\n",
       "      <td>8089800</td>\n",
       "      <td>2000-01-03</td>\n",
       "      <td>NaN</td>\n",
       "      <td>102.930847</td>\n",
       "      <td>NaN</td>\n",
       "    </tr>\n",
       "    <tr>\n",
       "      <th>2</th>\n",
       "      <td>2000-01-05</td>\n",
       "      <td>139.937500</td>\n",
       "      <td>141.531204</td>\n",
       "      <td>137.250000</td>\n",
       "      <td>140.0000</td>\n",
       "      <td>99.082603</td>\n",
       "      <td>12177900</td>\n",
       "      <td>2000-01-04</td>\n",
       "      <td>NaN</td>\n",
       "      <td>98.905685</td>\n",
       "      <td>NaN</td>\n",
       "    </tr>\n",
       "    <tr>\n",
       "      <th>3</th>\n",
       "      <td>2000-01-06</td>\n",
       "      <td>139.625000</td>\n",
       "      <td>141.500000</td>\n",
       "      <td>137.750000</td>\n",
       "      <td>137.7500</td>\n",
       "      <td>97.490211</td>\n",
       "      <td>6227200</td>\n",
       "      <td>2000-01-05</td>\n",
       "      <td>NaN</td>\n",
       "      <td>99.082603</td>\n",
       "      <td>NaN</td>\n",
       "    </tr>\n",
       "    <tr>\n",
       "      <th>4</th>\n",
       "      <td>2000-01-07</td>\n",
       "      <td>140.312500</td>\n",
       "      <td>145.750000</td>\n",
       "      <td>140.062500</td>\n",
       "      <td>145.7500</td>\n",
       "      <td>103.152069</td>\n",
       "      <td>8066500</td>\n",
       "      <td>2000-01-06</td>\n",
       "      <td>NaN</td>\n",
       "      <td>97.490211</td>\n",
       "      <td>NaN</td>\n",
       "    </tr>\n",
       "  </tbody>\n",
       "</table>\n",
       "</div>"
      ],
      "text/plain": [
       "         Date        Open        High         Low     Close   Adj_Close  \\\n",
       "0  2000-01-03  148.250000  148.250000  143.875000  145.4375  102.930847   \n",
       "1  2000-01-04  143.531204  144.062500  139.640594  139.7500   98.905685   \n",
       "2  2000-01-05  139.937500  141.531204  137.250000  140.0000   99.082603   \n",
       "3  2000-01-06  139.625000  141.500000  137.750000  137.7500   97.490211   \n",
       "4  2000-01-07  140.312500  145.750000  140.062500  145.7500  103.152069   \n",
       "\n",
       "     Volume     day_ago week_ago  day_ago_close  week_ago_close  \n",
       "0   8164300         NaN      NaN            NaN             NaN  \n",
       "1   8089800  2000-01-03      NaN     102.930847             NaN  \n",
       "2  12177900  2000-01-04      NaN      98.905685             NaN  \n",
       "3   6227200  2000-01-05      NaN      99.082603             NaN  \n",
       "4   8066500  2000-01-06      NaN      97.490211             NaN  "
      ]
     },
     "execution_count": 41,
     "metadata": {},
     "output_type": "execute_result"
    }
   ],
   "source": [
    "sp.head()"
   ]
  },
  {
   "cell_type": "code",
   "execution_count": 42,
   "metadata": {},
   "outputs": [
    {
     "name": "stdout",
     "output_type": "stream",
     "text": [
      "<class 'pandas.core.frame.DataFrame'>\n",
      "RangeIndex: 4688 entries, 0 to 4687\n",
      "Data columns (total 11 columns):\n",
      "Date              4688 non-null object\n",
      "Open              4688 non-null float64\n",
      "High              4688 non-null float64\n",
      "Low               4688 non-null float64\n",
      "Close             4688 non-null float64\n",
      "Adj_Close         4688 non-null float64\n",
      "Volume            4688 non-null int64\n",
      "day_ago           4687 non-null object\n",
      "week_ago          4682 non-null object\n",
      "day_ago_close     4687 non-null float64\n",
      "week_ago_close    4682 non-null float64\n",
      "dtypes: float64(7), int64(1), object(3)\n",
      "memory usage: 403.0+ KB\n"
     ]
    }
   ],
   "source": [
    "sp.info()"
   ]
  },
  {
   "cell_type": "code",
   "execution_count": 43,
   "metadata": {
    "collapsed": true
   },
   "outputs": [],
   "source": [
    "#sp500 weekly pct chg\n",
    "sp['chg'] = ((sp.day_ago_close - sp.week_ago_close)/sp.week_ago_close) * 100"
   ]
  },
  {
   "cell_type": "code",
   "execution_count": 44,
   "metadata": {},
   "outputs": [
    {
     "data": {
      "text/plain": [
       "count    4682.000000\n",
       "mean        0.141077\n",
       "std         2.441077\n",
       "min       -19.793362\n",
       "25%        -1.002636\n",
       "50%         0.293729\n",
       "75%         1.431990\n",
       "max        19.403586\n",
       "Name: chg, dtype: float64"
      ]
     },
     "execution_count": 44,
     "metadata": {},
     "output_type": "execute_result"
    }
   ],
   "source": [
    "sp.chg.describe()"
   ]
  },
  {
   "cell_type": "code",
   "execution_count": 45,
   "metadata": {
    "collapsed": true
   },
   "outputs": [],
   "source": [
    "#convert to datetime format and change index\n",
    "sp.Date = pd.to_datetime(sp.Date)\n",
    "sp.set_index(keys='Date', drop=True, inplace=True)"
   ]
  },
  {
   "cell_type": "code",
   "execution_count": 46,
   "metadata": {},
   "outputs": [
    {
     "data": {
      "text/html": [
       "<div>\n",
       "<style>\n",
       "    .dataframe thead tr:only-child th {\n",
       "        text-align: right;\n",
       "    }\n",
       "\n",
       "    .dataframe thead th {\n",
       "        text-align: left;\n",
       "    }\n",
       "\n",
       "    .dataframe tbody tr th {\n",
       "        vertical-align: top;\n",
       "    }\n",
       "</style>\n",
       "<table border=\"1\" class=\"dataframe\">\n",
       "  <thead>\n",
       "    <tr style=\"text-align: right;\">\n",
       "      <th></th>\n",
       "      <th>Open</th>\n",
       "      <th>High</th>\n",
       "      <th>Low</th>\n",
       "      <th>Close</th>\n",
       "      <th>Adj_Close</th>\n",
       "      <th>Volume</th>\n",
       "      <th>day_ago</th>\n",
       "      <th>week_ago</th>\n",
       "      <th>day_ago_close</th>\n",
       "      <th>week_ago_close</th>\n",
       "      <th>chg</th>\n",
       "    </tr>\n",
       "    <tr>\n",
       "      <th>Date</th>\n",
       "      <th></th>\n",
       "      <th></th>\n",
       "      <th></th>\n",
       "      <th></th>\n",
       "      <th></th>\n",
       "      <th></th>\n",
       "      <th></th>\n",
       "      <th></th>\n",
       "      <th></th>\n",
       "      <th></th>\n",
       "      <th></th>\n",
       "    </tr>\n",
       "  </thead>\n",
       "  <tbody>\n",
       "    <tr>\n",
       "      <th>2000-01-03</th>\n",
       "      <td>148.250000</td>\n",
       "      <td>148.250000</td>\n",
       "      <td>143.875000</td>\n",
       "      <td>145.437500</td>\n",
       "      <td>102.930847</td>\n",
       "      <td>8164300</td>\n",
       "      <td>NaN</td>\n",
       "      <td>NaN</td>\n",
       "      <td>NaN</td>\n",
       "      <td>NaN</td>\n",
       "      <td>NaN</td>\n",
       "    </tr>\n",
       "    <tr>\n",
       "      <th>2000-01-04</th>\n",
       "      <td>143.531204</td>\n",
       "      <td>144.062500</td>\n",
       "      <td>139.640594</td>\n",
       "      <td>139.750000</td>\n",
       "      <td>98.905685</td>\n",
       "      <td>8089800</td>\n",
       "      <td>2000-01-03</td>\n",
       "      <td>NaN</td>\n",
       "      <td>102.930847</td>\n",
       "      <td>NaN</td>\n",
       "      <td>NaN</td>\n",
       "    </tr>\n",
       "    <tr>\n",
       "      <th>2000-01-05</th>\n",
       "      <td>139.937500</td>\n",
       "      <td>141.531204</td>\n",
       "      <td>137.250000</td>\n",
       "      <td>140.000000</td>\n",
       "      <td>99.082603</td>\n",
       "      <td>12177900</td>\n",
       "      <td>2000-01-04</td>\n",
       "      <td>NaN</td>\n",
       "      <td>98.905685</td>\n",
       "      <td>NaN</td>\n",
       "      <td>NaN</td>\n",
       "    </tr>\n",
       "    <tr>\n",
       "      <th>2000-01-06</th>\n",
       "      <td>139.625000</td>\n",
       "      <td>141.500000</td>\n",
       "      <td>137.750000</td>\n",
       "      <td>137.750000</td>\n",
       "      <td>97.490211</td>\n",
       "      <td>6227200</td>\n",
       "      <td>2000-01-05</td>\n",
       "      <td>NaN</td>\n",
       "      <td>99.082603</td>\n",
       "      <td>NaN</td>\n",
       "      <td>NaN</td>\n",
       "    </tr>\n",
       "    <tr>\n",
       "      <th>2000-01-07</th>\n",
       "      <td>140.312500</td>\n",
       "      <td>145.750000</td>\n",
       "      <td>140.062500</td>\n",
       "      <td>145.750000</td>\n",
       "      <td>103.152069</td>\n",
       "      <td>8066500</td>\n",
       "      <td>2000-01-06</td>\n",
       "      <td>NaN</td>\n",
       "      <td>97.490211</td>\n",
       "      <td>NaN</td>\n",
       "      <td>NaN</td>\n",
       "    </tr>\n",
       "    <tr>\n",
       "      <th>2000-01-10</th>\n",
       "      <td>146.250000</td>\n",
       "      <td>146.906204</td>\n",
       "      <td>145.031204</td>\n",
       "      <td>146.250000</td>\n",
       "      <td>103.505920</td>\n",
       "      <td>5741700</td>\n",
       "      <td>2000-01-07</td>\n",
       "      <td>NaN</td>\n",
       "      <td>103.152069</td>\n",
       "      <td>NaN</td>\n",
       "      <td>NaN</td>\n",
       "    </tr>\n",
       "    <tr>\n",
       "      <th>2000-01-11</th>\n",
       "      <td>145.812500</td>\n",
       "      <td>146.093704</td>\n",
       "      <td>143.500000</td>\n",
       "      <td>144.500000</td>\n",
       "      <td>102.267410</td>\n",
       "      <td>7503700</td>\n",
       "      <td>2000-01-10</td>\n",
       "      <td>2000-01-03</td>\n",
       "      <td>103.505920</td>\n",
       "      <td>102.930847</td>\n",
       "      <td>0.558698</td>\n",
       "    </tr>\n",
       "    <tr>\n",
       "      <th>2000-01-12</th>\n",
       "      <td>144.593704</td>\n",
       "      <td>144.593704</td>\n",
       "      <td>142.875000</td>\n",
       "      <td>143.062500</td>\n",
       "      <td>101.249992</td>\n",
       "      <td>6907700</td>\n",
       "      <td>2000-01-11</td>\n",
       "      <td>2000-01-04</td>\n",
       "      <td>102.267410</td>\n",
       "      <td>98.905685</td>\n",
       "      <td>3.398920</td>\n",
       "    </tr>\n",
       "    <tr>\n",
       "      <th>2000-01-13</th>\n",
       "      <td>144.468704</td>\n",
       "      <td>145.750000</td>\n",
       "      <td>143.281204</td>\n",
       "      <td>145.000000</td>\n",
       "      <td>102.621277</td>\n",
       "      <td>5158300</td>\n",
       "      <td>2000-01-12</td>\n",
       "      <td>2000-01-05</td>\n",
       "      <td>101.249992</td>\n",
       "      <td>99.082603</td>\n",
       "      <td>2.187457</td>\n",
       "    </tr>\n",
       "    <tr>\n",
       "      <th>2000-01-14</th>\n",
       "      <td>146.531204</td>\n",
       "      <td>147.468704</td>\n",
       "      <td>145.968704</td>\n",
       "      <td>146.968704</td>\n",
       "      <td>104.014618</td>\n",
       "      <td>7437300</td>\n",
       "      <td>2000-01-13</td>\n",
       "      <td>2000-01-06</td>\n",
       "      <td>102.621277</td>\n",
       "      <td>97.490211</td>\n",
       "      <td>5.263160</td>\n",
       "    </tr>\n",
       "  </tbody>\n",
       "</table>\n",
       "</div>"
      ],
      "text/plain": [
       "                  Open        High         Low       Close   Adj_Close  \\\n",
       "Date                                                                     \n",
       "2000-01-03  148.250000  148.250000  143.875000  145.437500  102.930847   \n",
       "2000-01-04  143.531204  144.062500  139.640594  139.750000   98.905685   \n",
       "2000-01-05  139.937500  141.531204  137.250000  140.000000   99.082603   \n",
       "2000-01-06  139.625000  141.500000  137.750000  137.750000   97.490211   \n",
       "2000-01-07  140.312500  145.750000  140.062500  145.750000  103.152069   \n",
       "2000-01-10  146.250000  146.906204  145.031204  146.250000  103.505920   \n",
       "2000-01-11  145.812500  146.093704  143.500000  144.500000  102.267410   \n",
       "2000-01-12  144.593704  144.593704  142.875000  143.062500  101.249992   \n",
       "2000-01-13  144.468704  145.750000  143.281204  145.000000  102.621277   \n",
       "2000-01-14  146.531204  147.468704  145.968704  146.968704  104.014618   \n",
       "\n",
       "              Volume     day_ago    week_ago  day_ago_close  week_ago_close  \\\n",
       "Date                                                                          \n",
       "2000-01-03   8164300         NaN         NaN            NaN             NaN   \n",
       "2000-01-04   8089800  2000-01-03         NaN     102.930847             NaN   \n",
       "2000-01-05  12177900  2000-01-04         NaN      98.905685             NaN   \n",
       "2000-01-06   6227200  2000-01-05         NaN      99.082603             NaN   \n",
       "2000-01-07   8066500  2000-01-06         NaN      97.490211             NaN   \n",
       "2000-01-10   5741700  2000-01-07         NaN     103.152069             NaN   \n",
       "2000-01-11   7503700  2000-01-10  2000-01-03     103.505920      102.930847   \n",
       "2000-01-12   6907700  2000-01-11  2000-01-04     102.267410       98.905685   \n",
       "2000-01-13   5158300  2000-01-12  2000-01-05     101.249992       99.082603   \n",
       "2000-01-14   7437300  2000-01-13  2000-01-06     102.621277       97.490211   \n",
       "\n",
       "                 chg  \n",
       "Date                  \n",
       "2000-01-03       NaN  \n",
       "2000-01-04       NaN  \n",
       "2000-01-05       NaN  \n",
       "2000-01-06       NaN  \n",
       "2000-01-07       NaN  \n",
       "2000-01-10       NaN  \n",
       "2000-01-11  0.558698  \n",
       "2000-01-12  3.398920  \n",
       "2000-01-13  2.187457  \n",
       "2000-01-14  5.263160  "
      ]
     },
     "execution_count": 46,
     "metadata": {},
     "output_type": "execute_result"
    }
   ],
   "source": [
    "sp.head(10)"
   ]
  },
  {
   "cell_type": "code",
   "execution_count": 47,
   "metadata": {
    "collapsed": true
   },
   "outputs": [],
   "source": [
    "#Join by date\n",
    "df['sp_chg_pct_week'] = sp.chg"
   ]
  },
  {
   "cell_type": "code",
   "execution_count": 48,
   "metadata": {},
   "outputs": [
    {
     "data": {
      "text/plain": [
       "4"
      ]
     },
     "execution_count": 48,
     "metadata": {},
     "output_type": "execute_result"
    }
   ],
   "source": [
    "#there are missing S&P500 dates\n",
    "df['sp_chg_pct_week'].isnull().sum()"
   ]
  },
  {
   "cell_type": "code",
   "execution_count": 49,
   "metadata": {
    "collapsed": true
   },
   "outputs": [],
   "source": [
    "#fill missing S&P data with the preceding value\n",
    "df.fillna(method='ffill', inplace=True)"
   ]
  },
  {
   "cell_type": "code",
   "execution_count": 50,
   "metadata": {},
   "outputs": [
    {
     "data": {
      "text/plain": [
       "count    3123.000000\n",
       "mean        0.086310\n",
       "std         1.843367\n",
       "min       -11.001044\n",
       "25%        -0.931455\n",
       "50%         0.231187\n",
       "75%         1.215254\n",
       "max        10.364580\n",
       "Name: sp_chg_pct_week, dtype: float64"
      ]
     },
     "execution_count": 50,
     "metadata": {},
     "output_type": "execute_result"
    }
   ],
   "source": [
    "df['sp_chg_pct_week'].describe()"
   ]
  },
  {
   "cell_type": "code",
   "execution_count": 51,
   "metadata": {},
   "outputs": [
    {
     "data": {
      "text/html": [
       "<div>\n",
       "<style>\n",
       "    .dataframe thead tr:only-child th {\n",
       "        text-align: right;\n",
       "    }\n",
       "\n",
       "    .dataframe thead th {\n",
       "        text-align: left;\n",
       "    }\n",
       "\n",
       "    .dataframe tbody tr th {\n",
       "        vertical-align: top;\n",
       "    }\n",
       "</style>\n",
       "<table border=\"1\" class=\"dataframe\">\n",
       "  <thead>\n",
       "    <tr style=\"text-align: right;\">\n",
       "      <th></th>\n",
       "      <th>date</th>\n",
       "      <th>issuer</th>\n",
       "      <th>symbol</th>\n",
       "      <th>managers</th>\n",
       "      <th>offer_price</th>\n",
       "      <th>open_price</th>\n",
       "      <th>first_day_close</th>\n",
       "      <th>first_day_pctchg</th>\n",
       "      <th>dollar_change_open</th>\n",
       "      <th>dollar_change_close</th>\n",
       "      <th>star_rating</th>\n",
       "      <th>performed</th>\n",
       "      <th>dollar_chg_opencls</th>\n",
       "      <th>pct_chg_opencls</th>\n",
       "      <th>gap_open_pct</th>\n",
       "      <th>sp_chg_pct_week</th>\n",
       "    </tr>\n",
       "    <tr>\n",
       "      <th>date</th>\n",
       "      <th></th>\n",
       "      <th></th>\n",
       "      <th></th>\n",
       "      <th></th>\n",
       "      <th></th>\n",
       "      <th></th>\n",
       "      <th></th>\n",
       "      <th></th>\n",
       "      <th></th>\n",
       "      <th></th>\n",
       "      <th></th>\n",
       "      <th></th>\n",
       "      <th></th>\n",
       "      <th></th>\n",
       "      <th></th>\n",
       "      <th></th>\n",
       "    </tr>\n",
       "  </thead>\n",
       "  <tbody>\n",
       "    <tr>\n",
       "      <th>2000-05-12</th>\n",
       "      <td>2000-05-12</td>\n",
       "      <td>Sequoia Software</td>\n",
       "      <td>SQSW</td>\n",
       "      <td>Lehman Brothers</td>\n",
       "      <td>8.0</td>\n",
       "      <td>10.25</td>\n",
       "      <td>10.06</td>\n",
       "      <td>25.750000</td>\n",
       "      <td>2.25</td>\n",
       "      <td>2.06</td>\n",
       "      <td>2.0</td>\n",
       "      <td>NaN</td>\n",
       "      <td>-0.19</td>\n",
       "      <td>-1.853659</td>\n",
       "      <td>28.125000</td>\n",
       "      <td>-0.374697</td>\n",
       "    </tr>\n",
       "    <tr>\n",
       "      <th>2000-05-18</th>\n",
       "      <td>2000-05-18</td>\n",
       "      <td>US Unwired</td>\n",
       "      <td>UNWR</td>\n",
       "      <td>Donaldson Lufkin &amp; Jenrette</td>\n",
       "      <td>11.0</td>\n",
       "      <td>11.03</td>\n",
       "      <td>11.06</td>\n",
       "      <td>0.545455</td>\n",
       "      <td>0.03</td>\n",
       "      <td>0.06</td>\n",
       "      <td>1.0</td>\n",
       "      <td>NaN</td>\n",
       "      <td>0.03</td>\n",
       "      <td>0.271985</td>\n",
       "      <td>0.272727</td>\n",
       "      <td>5.090497</td>\n",
       "    </tr>\n",
       "    <tr>\n",
       "      <th>2000-05-18</th>\n",
       "      <td>2000-05-18</td>\n",
       "      <td>Nogatech</td>\n",
       "      <td>NGTC</td>\n",
       "      <td>W.R. Hambrecht+Co</td>\n",
       "      <td>12.0</td>\n",
       "      <td>11.88</td>\n",
       "      <td>9.41</td>\n",
       "      <td>-21.583333</td>\n",
       "      <td>-0.12</td>\n",
       "      <td>-2.59</td>\n",
       "      <td>1.0</td>\n",
       "      <td>NaN</td>\n",
       "      <td>-2.47</td>\n",
       "      <td>-20.791246</td>\n",
       "      <td>-1.000000</td>\n",
       "      <td>5.090497</td>\n",
       "    </tr>\n",
       "    <tr>\n",
       "      <th>2000-05-18</th>\n",
       "      <td>2000-05-18</td>\n",
       "      <td>New Focus</td>\n",
       "      <td>NUFO</td>\n",
       "      <td>Credit Suisse First Boston</td>\n",
       "      <td>20.0</td>\n",
       "      <td>40.00</td>\n",
       "      <td>51.00</td>\n",
       "      <td>155.000000</td>\n",
       "      <td>20.00</td>\n",
       "      <td>31.00</td>\n",
       "      <td>3.0</td>\n",
       "      <td>NaN</td>\n",
       "      <td>11.00</td>\n",
       "      <td>27.500000</td>\n",
       "      <td>100.000000</td>\n",
       "      <td>5.090497</td>\n",
       "    </tr>\n",
       "    <tr>\n",
       "      <th>2000-05-18</th>\n",
       "      <td>2000-05-18</td>\n",
       "      <td>iBEAM Broadcasting</td>\n",
       "      <td>IBEM</td>\n",
       "      <td>Morgan Stanley Dean Witter</td>\n",
       "      <td>10.0</td>\n",
       "      <td>11.50</td>\n",
       "      <td>14.00</td>\n",
       "      <td>40.000000</td>\n",
       "      <td>1.50</td>\n",
       "      <td>4.00</td>\n",
       "      <td>2.0</td>\n",
       "      <td>NaN</td>\n",
       "      <td>2.50</td>\n",
       "      <td>21.739130</td>\n",
       "      <td>15.000000</td>\n",
       "      <td>5.090497</td>\n",
       "    </tr>\n",
       "    <tr>\n",
       "      <th>2000-05-19</th>\n",
       "      <td>2000-05-19</td>\n",
       "      <td>CoolSavings.com</td>\n",
       "      <td>CSAV</td>\n",
       "      <td>Chase H&amp;Q</td>\n",
       "      <td>7.0</td>\n",
       "      <td>7.00</td>\n",
       "      <td>5.53</td>\n",
       "      <td>-21.000000</td>\n",
       "      <td>0.00</td>\n",
       "      <td>-1.47</td>\n",
       "      <td>1.0</td>\n",
       "      <td>NaN</td>\n",
       "      <td>-1.47</td>\n",
       "      <td>-21.000000</td>\n",
       "      <td>0.000000</td>\n",
       "      <td>1.482064</td>\n",
       "    </tr>\n",
       "    <tr>\n",
       "      <th>2000-05-19</th>\n",
       "      <td>2000-05-19</td>\n",
       "      <td>PixelWorks</td>\n",
       "      <td>PXLW</td>\n",
       "      <td>Salomon Smith Barney</td>\n",
       "      <td>10.0</td>\n",
       "      <td>11.25</td>\n",
       "      <td>10.89</td>\n",
       "      <td>8.900000</td>\n",
       "      <td>1.25</td>\n",
       "      <td>0.89</td>\n",
       "      <td>3.0</td>\n",
       "      <td>NaN</td>\n",
       "      <td>-0.36</td>\n",
       "      <td>-3.200000</td>\n",
       "      <td>12.500000</td>\n",
       "      <td>1.482064</td>\n",
       "    </tr>\n",
       "    <tr>\n",
       "      <th>2000-05-19</th>\n",
       "      <td>2000-05-19</td>\n",
       "      <td>Parthus Technologies</td>\n",
       "      <td>PRTH</td>\n",
       "      <td>Goldman, Sachs</td>\n",
       "      <td>12.6</td>\n",
       "      <td>20.00</td>\n",
       "      <td>20.81</td>\n",
       "      <td>65.158730</td>\n",
       "      <td>7.40</td>\n",
       "      <td>8.21</td>\n",
       "      <td>3.0</td>\n",
       "      <td>NaN</td>\n",
       "      <td>0.81</td>\n",
       "      <td>4.050000</td>\n",
       "      <td>58.730159</td>\n",
       "      <td>1.482064</td>\n",
       "    </tr>\n",
       "    <tr>\n",
       "      <th>2000-05-23</th>\n",
       "      <td>2000-05-23</td>\n",
       "      <td>Integrated Circuit Systems</td>\n",
       "      <td>ICST</td>\n",
       "      <td>Credit Suisse First Boston</td>\n",
       "      <td>13.0</td>\n",
       "      <td>13.00</td>\n",
       "      <td>12.00</td>\n",
       "      <td>-7.692308</td>\n",
       "      <td>0.00</td>\n",
       "      <td>-1.00</td>\n",
       "      <td>1.0</td>\n",
       "      <td>NaN</td>\n",
       "      <td>-1.00</td>\n",
       "      <td>-7.692308</td>\n",
       "      <td>0.000000</td>\n",
       "      <td>-3.592132</td>\n",
       "    </tr>\n",
       "    <tr>\n",
       "      <th>2000-05-24</th>\n",
       "      <td>2000-05-24</td>\n",
       "      <td>Universal Compression Holdings</td>\n",
       "      <td>UCO</td>\n",
       "      <td>Merrill Lynch</td>\n",
       "      <td>22.0</td>\n",
       "      <td>23.25</td>\n",
       "      <td>22.06</td>\n",
       "      <td>0.272727</td>\n",
       "      <td>1.25</td>\n",
       "      <td>0.06</td>\n",
       "      <td>2.0</td>\n",
       "      <td>NaN</td>\n",
       "      <td>-1.19</td>\n",
       "      <td>-5.118280</td>\n",
       "      <td>5.681818</td>\n",
       "      <td>-5.922448</td>\n",
       "    </tr>\n",
       "  </tbody>\n",
       "</table>\n",
       "</div>"
      ],
      "text/plain": [
       "                 date                           issuer symbol  \\\n",
       "date                                                            \n",
       "2000-05-12 2000-05-12                Sequoia Software    SQSW   \n",
       "2000-05-18 2000-05-18                       US Unwired   UNWR   \n",
       "2000-05-18 2000-05-18                        Nogatech    NGTC   \n",
       "2000-05-18 2000-05-18                       New Focus    NUFO   \n",
       "2000-05-18 2000-05-18              iBEAM Broadcasting    IBEM   \n",
       "2000-05-19 2000-05-19                 CoolSavings.com    CSAV   \n",
       "2000-05-19 2000-05-19                      PixelWorks    PXLW   \n",
       "2000-05-19 2000-05-19            Parthus Technologies    PRTH   \n",
       "2000-05-23 2000-05-23      Integrated Circuit Systems    ICST   \n",
       "2000-05-24 2000-05-24  Universal Compression Holdings     UCO   \n",
       "\n",
       "                               managers  offer_price  open_price  \\\n",
       "date                                                               \n",
       "2000-05-12              Lehman Brothers          8.0       10.25   \n",
       "2000-05-18  Donaldson Lufkin & Jenrette         11.0       11.03   \n",
       "2000-05-18            W.R. Hambrecht+Co         12.0       11.88   \n",
       "2000-05-18   Credit Suisse First Boston         20.0       40.00   \n",
       "2000-05-18   Morgan Stanley Dean Witter         10.0       11.50   \n",
       "2000-05-19                    Chase H&Q          7.0        7.00   \n",
       "2000-05-19         Salomon Smith Barney         10.0       11.25   \n",
       "2000-05-19               Goldman, Sachs         12.6       20.00   \n",
       "2000-05-23   Credit Suisse First Boston         13.0       13.00   \n",
       "2000-05-24                Merrill Lynch         22.0       23.25   \n",
       "\n",
       "            first_day_close  first_day_pctchg  dollar_change_open  \\\n",
       "date                                                                \n",
       "2000-05-12            10.06         25.750000                2.25   \n",
       "2000-05-18            11.06          0.545455                0.03   \n",
       "2000-05-18             9.41        -21.583333               -0.12   \n",
       "2000-05-18            51.00        155.000000               20.00   \n",
       "2000-05-18            14.00         40.000000                1.50   \n",
       "2000-05-19             5.53        -21.000000                0.00   \n",
       "2000-05-19            10.89          8.900000                1.25   \n",
       "2000-05-19            20.81         65.158730                7.40   \n",
       "2000-05-23            12.00         -7.692308                0.00   \n",
       "2000-05-24            22.06          0.272727                1.25   \n",
       "\n",
       "            dollar_change_close  star_rating performed  dollar_chg_opencls  \\\n",
       "date                                                                         \n",
       "2000-05-12                 2.06          2.0       NaN               -0.19   \n",
       "2000-05-18                 0.06          1.0       NaN                0.03   \n",
       "2000-05-18                -2.59          1.0       NaN               -2.47   \n",
       "2000-05-18                31.00          3.0       NaN               11.00   \n",
       "2000-05-18                 4.00          2.0       NaN                2.50   \n",
       "2000-05-19                -1.47          1.0       NaN               -1.47   \n",
       "2000-05-19                 0.89          3.0       NaN               -0.36   \n",
       "2000-05-19                 8.21          3.0       NaN                0.81   \n",
       "2000-05-23                -1.00          1.0       NaN               -1.00   \n",
       "2000-05-24                 0.06          2.0       NaN               -1.19   \n",
       "\n",
       "            pct_chg_opencls  gap_open_pct  sp_chg_pct_week  \n",
       "date                                                        \n",
       "2000-05-12        -1.853659     28.125000        -0.374697  \n",
       "2000-05-18         0.271985      0.272727         5.090497  \n",
       "2000-05-18       -20.791246     -1.000000         5.090497  \n",
       "2000-05-18        27.500000    100.000000         5.090497  \n",
       "2000-05-18        21.739130     15.000000         5.090497  \n",
       "2000-05-19       -21.000000      0.000000         1.482064  \n",
       "2000-05-19        -3.200000     12.500000         1.482064  \n",
       "2000-05-19         4.050000     58.730159         1.482064  \n",
       "2000-05-23        -7.692308      0.000000        -3.592132  \n",
       "2000-05-24        -5.118280      5.681818        -5.922448  "
      ]
     },
     "execution_count": 51,
     "metadata": {},
     "output_type": "execute_result"
    }
   ],
   "source": [
    "df.head(10)"
   ]
  },
  {
   "cell_type": "markdown",
   "metadata": {},
   "source": [
    "#### SP500 peformance (in the preceding week) correlation with IPO performance\n",
    "- looks weak"
   ]
  },
  {
   "cell_type": "code",
   "execution_count": 52,
   "metadata": {},
   "outputs": [
    {
     "data": {
      "text/plain": [
       "<matplotlib.axes._subplots.AxesSubplot at 0xcd8f7b8>"
      ]
     },
     "execution_count": 52,
     "metadata": {},
     "output_type": "execute_result"
    },
    {
     "data": {
      "image/png": "[encoded data removed]",
      "text/plain": [
       "<matplotlib.figure.Figure at 0xcd855f8>"
      ]
     },
     "metadata": {},
     "output_type": "display_data"
    }
   ],
   "source": [
    "sns.regplot(x='sp_chg_pct_week', y='pct_chg_opencls', data=df)\n",
    "#sns.regplot(x='sp_chg_pct_week', y='first_day_pctchg', data=df)\n",
    "#sns.regplot(x='sp_chg_pct_week', y='dollar_change_open', data=df)"
   ]
  },
  {
   "cell_type": "code",
   "execution_count": null,
   "metadata": {
    "collapsed": true
   },
   "outputs": [],
   "source": []
  },
  {
   "cell_type": "markdown",
   "metadata": {},
   "source": [
    "#### Categorical Features"
   ]
  },
  {
   "cell_type": "code",
   "execution_count": 53,
   "metadata": {},
   "outputs": [
    {
     "data": {
      "text/plain": [
       "date\n",
       "2000-05-12                Lehman Brothers\n",
       "2000-05-18    Donaldson Lufkin & Jenrette\n",
       "2000-05-18              W.R. Hambrecht+Co\n",
       "2000-05-18     Credit Suisse First Boston\n",
       "2000-05-18     Morgan Stanley Dean Witter\n",
       "2000-05-19                      Chase H&Q\n",
       "2000-05-19           Salomon Smith Barney\n",
       "2000-05-19                 Goldman, Sachs\n",
       "2000-05-23     Credit Suisse First Boston\n",
       "2000-05-24                  Merrill Lynch\n",
       "Name: managers, dtype: object"
      ]
     },
     "execution_count": 53,
     "metadata": {},
     "output_type": "execute_result"
    }
   ],
   "source": [
    "df.managers[:10]"
   ]
  },
  {
   "cell_type": "code",
   "execution_count": 54,
   "metadata": {
    "collapsed": true
   },
   "outputs": [],
   "source": [
    "df['lead_mgr'] = df['managers'].astype('str').map(lambda x:x.split('/')[0])"
   ]
  },
  {
   "cell_type": "code",
   "execution_count": 55,
   "metadata": {},
   "outputs": [
    {
     "data": {
      "text/plain": [
       "date\n",
       "2000-05-12                Lehman Brothers\n",
       "2000-05-18    Donaldson Lufkin & Jenrette\n",
       "2000-05-18              W.R. Hambrecht+Co\n",
       "2000-05-18     Credit Suisse First Boston\n",
       "2000-05-18     Morgan Stanley Dean Witter\n",
       "Name: lead_mgr, dtype: object"
      ]
     },
     "execution_count": 55,
     "metadata": {},
     "output_type": "execute_result"
    }
   ],
   "source": [
    "df['lead_mgr'].head()"
   ]
  },
  {
   "cell_type": "code",
   "execution_count": 56,
   "metadata": {
    "collapsed": true
   },
   "outputs": [],
   "source": [
    "df.loc[df['lead_mgr'].str.contains('ViewTrade'), 'lead_mgr'] = 'viewtrade securities'"
   ]
  },
  {
   "cell_type": "code",
   "execution_count": 57,
   "metadata": {},
   "outputs": [
    {
     "data": {
      "text/plain": [
       "date\n",
       "2000-05-12                Lehman Brothers\n",
       "2000-05-18    Donaldson Lufkin & Jenrette\n",
       "2000-05-18              W.R. Hambrecht+Co\n",
       "2000-05-18     Credit Suisse First Boston\n",
       "2000-05-18     Morgan Stanley Dean Witter\n",
       "Name: lead_mgr, dtype: object"
      ]
     },
     "execution_count": 57,
     "metadata": {},
     "output_type": "execute_result"
    }
   ],
   "source": [
    "df['lead_mgr'].head()"
   ]
  },
  {
   "cell_type": "code",
   "execution_count": 58,
   "metadata": {},
   "outputs": [
    {
     "data": {
      "text/plain": [
       "array(['Lehman Brothers', 'Donaldson Lufkin & Jenrette',\n",
       "       'W.R. Hambrecht+Co', 'Credit Suisse First Boston',\n",
       "       'Morgan Stanley Dean Witter'], dtype=object)"
      ]
     },
     "execution_count": 58,
     "metadata": {},
     "output_type": "execute_result"
    }
   ],
   "source": [
    "df.lead_mgr.unique()[:5]"
   ]
  },
  {
   "cell_type": "code",
   "execution_count": 59,
   "metadata": {},
   "outputs": [
    {
     "data": {
      "text/plain": [
       "Index(['date', 'issuer', 'symbol', 'managers', 'offer_price', 'open_price',\n",
       "       'first_day_close', 'first_day_pctchg', 'dollar_change_open',\n",
       "       'dollar_change_close', 'star_rating', 'performed', 'dollar_chg_opencls',\n",
       "       'pct_chg_opencls', 'gap_open_pct', 'sp_chg_pct_week', 'lead_mgr'],\n",
       "      dtype='object')"
      ]
     },
     "execution_count": 59,
     "metadata": {},
     "output_type": "execute_result"
    }
   ],
   "source": [
    "df.columns"
   ]
  },
  {
   "cell_type": "code",
   "execution_count": 60,
   "metadata": {},
   "outputs": [
    {
     "data": {
      "text/html": [
       "<div>\n",
       "<style>\n",
       "    .dataframe thead tr:only-child th {\n",
       "        text-align: right;\n",
       "    }\n",
       "\n",
       "    .dataframe thead th {\n",
       "        text-align: left;\n",
       "    }\n",
       "\n",
       "    .dataframe tbody tr th {\n",
       "        vertical-align: top;\n",
       "    }\n",
       "</style>\n",
       "<table border=\"1\" class=\"dataframe\">\n",
       "  <thead>\n",
       "    <tr style=\"text-align: right;\">\n",
       "      <th></th>\n",
       "      <th>date</th>\n",
       "      <th>issuer</th>\n",
       "      <th>symbol</th>\n",
       "      <th>managers</th>\n",
       "      <th>offer_price</th>\n",
       "      <th>open_price</th>\n",
       "      <th>first_day_close</th>\n",
       "      <th>first_day_pctchg</th>\n",
       "      <th>dollar_change_open</th>\n",
       "      <th>dollar_change_close</th>\n",
       "      <th>star_rating</th>\n",
       "      <th>performed</th>\n",
       "      <th>dollar_chg_opencls</th>\n",
       "      <th>pct_chg_opencls</th>\n",
       "      <th>gap_open_pct</th>\n",
       "      <th>sp_chg_pct_week</th>\n",
       "      <th>lead_mgr</th>\n",
       "    </tr>\n",
       "    <tr>\n",
       "      <th>date</th>\n",
       "      <th></th>\n",
       "      <th></th>\n",
       "      <th></th>\n",
       "      <th></th>\n",
       "      <th></th>\n",
       "      <th></th>\n",
       "      <th></th>\n",
       "      <th></th>\n",
       "      <th></th>\n",
       "      <th></th>\n",
       "      <th></th>\n",
       "      <th></th>\n",
       "      <th></th>\n",
       "      <th></th>\n",
       "      <th></th>\n",
       "      <th></th>\n",
       "      <th></th>\n",
       "    </tr>\n",
       "  </thead>\n",
       "  <tbody>\n",
       "    <tr>\n",
       "      <th>2000-05-12</th>\n",
       "      <td>2000-05-12</td>\n",
       "      <td>Sequoia Software</td>\n",
       "      <td>SQSW</td>\n",
       "      <td>Lehman Brothers</td>\n",
       "      <td>8.0</td>\n",
       "      <td>10.25</td>\n",
       "      <td>10.06</td>\n",
       "      <td>25.750000</td>\n",
       "      <td>2.25</td>\n",
       "      <td>2.06</td>\n",
       "      <td>2.0</td>\n",
       "      <td>NaN</td>\n",
       "      <td>-0.19</td>\n",
       "      <td>-1.853659</td>\n",
       "      <td>28.125000</td>\n",
       "      <td>-0.374697</td>\n",
       "      <td>Lehman Brothers</td>\n",
       "    </tr>\n",
       "    <tr>\n",
       "      <th>2000-05-18</th>\n",
       "      <td>2000-05-18</td>\n",
       "      <td>US Unwired</td>\n",
       "      <td>UNWR</td>\n",
       "      <td>Donaldson Lufkin &amp; Jenrette</td>\n",
       "      <td>11.0</td>\n",
       "      <td>11.03</td>\n",
       "      <td>11.06</td>\n",
       "      <td>0.545455</td>\n",
       "      <td>0.03</td>\n",
       "      <td>0.06</td>\n",
       "      <td>1.0</td>\n",
       "      <td>NaN</td>\n",
       "      <td>0.03</td>\n",
       "      <td>0.271985</td>\n",
       "      <td>0.272727</td>\n",
       "      <td>5.090497</td>\n",
       "      <td>Donaldson Lufkin &amp; Jenrette</td>\n",
       "    </tr>\n",
       "    <tr>\n",
       "      <th>2000-05-18</th>\n",
       "      <td>2000-05-18</td>\n",
       "      <td>Nogatech</td>\n",
       "      <td>NGTC</td>\n",
       "      <td>W.R. Hambrecht+Co</td>\n",
       "      <td>12.0</td>\n",
       "      <td>11.88</td>\n",
       "      <td>9.41</td>\n",
       "      <td>-21.583333</td>\n",
       "      <td>-0.12</td>\n",
       "      <td>-2.59</td>\n",
       "      <td>1.0</td>\n",
       "      <td>NaN</td>\n",
       "      <td>-2.47</td>\n",
       "      <td>-20.791246</td>\n",
       "      <td>-1.000000</td>\n",
       "      <td>5.090497</td>\n",
       "      <td>W.R. Hambrecht+Co</td>\n",
       "    </tr>\n",
       "    <tr>\n",
       "      <th>2000-05-18</th>\n",
       "      <td>2000-05-18</td>\n",
       "      <td>New Focus</td>\n",
       "      <td>NUFO</td>\n",
       "      <td>Credit Suisse First Boston</td>\n",
       "      <td>20.0</td>\n",
       "      <td>40.00</td>\n",
       "      <td>51.00</td>\n",
       "      <td>155.000000</td>\n",
       "      <td>20.00</td>\n",
       "      <td>31.00</td>\n",
       "      <td>3.0</td>\n",
       "      <td>NaN</td>\n",
       "      <td>11.00</td>\n",
       "      <td>27.500000</td>\n",
       "      <td>100.000000</td>\n",
       "      <td>5.090497</td>\n",
       "      <td>Credit Suisse First Boston</td>\n",
       "    </tr>\n",
       "    <tr>\n",
       "      <th>2000-05-18</th>\n",
       "      <td>2000-05-18</td>\n",
       "      <td>iBEAM Broadcasting</td>\n",
       "      <td>IBEM</td>\n",
       "      <td>Morgan Stanley Dean Witter</td>\n",
       "      <td>10.0</td>\n",
       "      <td>11.50</td>\n",
       "      <td>14.00</td>\n",
       "      <td>40.000000</td>\n",
       "      <td>1.50</td>\n",
       "      <td>4.00</td>\n",
       "      <td>2.0</td>\n",
       "      <td>NaN</td>\n",
       "      <td>2.50</td>\n",
       "      <td>21.739130</td>\n",
       "      <td>15.000000</td>\n",
       "      <td>5.090497</td>\n",
       "      <td>Morgan Stanley Dean Witter</td>\n",
       "    </tr>\n",
       "  </tbody>\n",
       "</table>\n",
       "</div>"
      ],
      "text/plain": [
       "                 date               issuer symbol  \\\n",
       "date                                                \n",
       "2000-05-12 2000-05-12    Sequoia Software    SQSW   \n",
       "2000-05-18 2000-05-18           US Unwired   UNWR   \n",
       "2000-05-18 2000-05-18            Nogatech    NGTC   \n",
       "2000-05-18 2000-05-18           New Focus    NUFO   \n",
       "2000-05-18 2000-05-18  iBEAM Broadcasting    IBEM   \n",
       "\n",
       "                               managers  offer_price  open_price  \\\n",
       "date                                                               \n",
       "2000-05-12              Lehman Brothers          8.0       10.25   \n",
       "2000-05-18  Donaldson Lufkin & Jenrette         11.0       11.03   \n",
       "2000-05-18            W.R. Hambrecht+Co         12.0       11.88   \n",
       "2000-05-18   Credit Suisse First Boston         20.0       40.00   \n",
       "2000-05-18   Morgan Stanley Dean Witter         10.0       11.50   \n",
       "\n",
       "            first_day_close  first_day_pctchg  dollar_change_open  \\\n",
       "date                                                                \n",
       "2000-05-12            10.06         25.750000                2.25   \n",
       "2000-05-18            11.06          0.545455                0.03   \n",
       "2000-05-18             9.41        -21.583333               -0.12   \n",
       "2000-05-18            51.00        155.000000               20.00   \n",
       "2000-05-18            14.00         40.000000                1.50   \n",
       "\n",
       "            dollar_change_close  star_rating performed  dollar_chg_opencls  \\\n",
       "date                                                                         \n",
       "2000-05-12                 2.06          2.0       NaN               -0.19   \n",
       "2000-05-18                 0.06          1.0       NaN                0.03   \n",
       "2000-05-18                -2.59          1.0       NaN               -2.47   \n",
       "2000-05-18                31.00          3.0       NaN               11.00   \n",
       "2000-05-18                 4.00          2.0       NaN                2.50   \n",
       "\n",
       "            pct_chg_opencls  gap_open_pct  sp_chg_pct_week  \\\n",
       "date                                                         \n",
       "2000-05-12        -1.853659     28.125000        -0.374697   \n",
       "2000-05-18         0.271985      0.272727         5.090497   \n",
       "2000-05-18       -20.791246     -1.000000         5.090497   \n",
       "2000-05-18        27.500000    100.000000         5.090497   \n",
       "2000-05-18        21.739130     15.000000         5.090497   \n",
       "\n",
       "                               lead_mgr  \n",
       "date                                     \n",
       "2000-05-12              Lehman Brothers  \n",
       "2000-05-18  Donaldson Lufkin & Jenrette  \n",
       "2000-05-18            W.R. Hambrecht+Co  \n",
       "2000-05-18   Credit Suisse First Boston  \n",
       "2000-05-18   Morgan Stanley Dean Witter  "
      ]
     },
     "execution_count": 60,
     "metadata": {},
     "output_type": "execute_result"
    }
   ],
   "source": [
    "df.head()"
   ]
  },
  {
   "cell_type": "code",
   "execution_count": 61,
   "metadata": {},
   "outputs": [
    {
     "name": "stdout",
     "output_type": "stream",
     "text": [
      "<class 'pandas.core.frame.DataFrame'>\n",
      "DatetimeIndex: 3123 entries, 2000-05-12 to 2018-08-10\n",
      "Data columns (total 17 columns):\n",
      "date                   3123 non-null datetime64[ns]\n",
      "issuer                 3123 non-null object\n",
      "symbol                 3123 non-null object\n",
      "managers               3123 non-null object\n",
      "offer_price            3123 non-null float64\n",
      "open_price             3123 non-null float64\n",
      "first_day_close        3123 non-null float64\n",
      "first_day_pctchg       3123 non-null float64\n",
      "dollar_change_open     3123 non-null float64\n",
      "dollar_change_close    3123 non-null float64\n",
      "star_rating            3123 non-null float64\n",
      "performed              3081 non-null object\n",
      "dollar_chg_opencls     3123 non-null float64\n",
      "pct_chg_opencls        3123 non-null float64\n",
      "gap_open_pct           3123 non-null float64\n",
      "sp_chg_pct_week        3123 non-null float64\n",
      "lead_mgr               3123 non-null object\n",
      "dtypes: datetime64[ns](1), float64(11), object(5)\n",
      "memory usage: 519.2+ KB\n"
     ]
    }
   ],
   "source": [
    "df.info()"
   ]
  },
  {
   "cell_type": "code",
   "execution_count": 62,
   "metadata": {},
   "outputs": [
    {
     "data": {
      "text/plain": [
       "lead_mgr\n",
       "  Morgan Stanley                                        0.212465\n",
       " Deutsche Bank Securities                               6.347898\n",
       " J.P. Morgan                                            4.732680\n",
       " Raymond James                                         11.310345\n",
       "A.G. Edwards                                            2.035083\n",
       "A.G. Edwards & Sons                                     5.485057\n",
       "A.G. Edwrads & Sons                                     0.000000\n",
       "AG Edwards                                             -2.789684\n",
       "AG Edwards & Sons                                       5.597964\n",
       "AG Edwrads                                              9.247312\n",
       "Adams Harkness                                         -4.133333\n",
       "Advest                                                 -1.593838\n",
       "Aegis Capital                                           0.783463\n",
       "Aegis Capital                                          -3.278689\n",
       "Aegis Capital Corp                                     -0.142159\n",
       "Aegis Capital Corp.                                     0.482008\n",
       "Anderson & Strudrick                                   11.290323\n",
       "Axiom                                                  -6.962025\n",
       "Axiom Capital Management                               -4.640000\n",
       "B. Riley FBR                                           -0.033200\n",
       "BB&T Capital Markets                                   -3.489035\n",
       "BBVA                                                   -2.054054\n",
       "BMN Nesbitt Burns                                       2.189781\n",
       "BMO Capital Markets                                    11.070749\n",
       "Baird                                                   1.082590\n",
       "Baird, BMO Capital Markets, Janney Montgomery Scott    -5.600000\n",
       "Banc of America                                         1.004081\n",
       "Banc of America Securities                             -3.773174\n",
       "Barclay Capital                                        -3.750000\n",
       "Barclays                                                1.692522\n",
       "                                                         ...    \n",
       "UBS Securities                                         10.857143\n",
       "UBS Warburg                                             0.006635\n",
       "UBS Warburg                                            18.880000\n",
       "US Bancorp Piper Jaffray                               -1.529116\n",
       "Utendhal Capital Partners                              -1.761518\n",
       "W.R. Hambracht                                         15.375154\n",
       "W.R. Hambrecht                                          3.080768\n",
       "W.R. Hambrecht + Co                                    -1.092896\n",
       "W.R. Hambrecht + Co.                                   -9.705043\n",
       "W.R. Hambrecht+Co                                     -11.298965\n",
       "W.R. Hambrecht+Co.                                      1.109487\n",
       "WR Hambrecht                                           -3.183521\n",
       "WR Hambrecht + Co.                                     -0.248447\n",
       "WR Hambrecht+Co                                        -1.574074\n",
       "WR Hambrecht+Co.                                        4.545455\n",
       "Wachovia                                                1.811141\n",
       "Wachovia Securities                                     8.729413\n",
       "WallachBeth Capital                                    -2.373847\n",
       "Wedbush Morgan                                         -2.053353\n",
       "Wedbush Morgan Securities                               4.451039\n",
       "Wells Fargo Securities                                 -1.537803\n",
       "WestPark Capital                                        0.952381\n",
       "William Baird                                          -9.680851\n",
       "William Blair                                           9.670868\n",
       "William Blair & Company                                 0.000000\n",
       "Wunderlich                                            -10.299446\n",
       "Wunderlich Securities                                  -0.075833\n",
       "viewtrade securities                                   12.419173\n",
       "​Credit Suisse                                         -0.199005\n",
       "​Jefferies                                            -11.024136\n",
       "Name: pct_chg_opencls, Length: 311, dtype: float64"
      ]
     },
     "execution_count": 62,
     "metadata": {},
     "output_type": "execute_result"
    }
   ],
   "source": [
    "#is IPO performance dependent on lead manager\n",
    "df.groupby('lead_mgr')['pct_chg_opencls'].mean()"
   ]
  },
  {
   "cell_type": "code",
   "execution_count": 63,
   "metadata": {},
   "outputs": [
    {
     "data": {
      "text/plain": [
       "1.0    1528\n",
       "3.0     782\n",
       "2.0     734\n",
       "4.0      62\n",
       "0.0       9\n",
       "5.0       8\n",
       "Name: star_rating, dtype: int64"
      ]
     },
     "execution_count": 63,
     "metadata": {},
     "output_type": "execute_result"
    }
   ],
   "source": [
    "#star rating is ordinal categorical feature\n",
    "df.star_rating.value_counts()"
   ]
  },
  {
   "cell_type": "code",
   "execution_count": 64,
   "metadata": {},
   "outputs": [
    {
     "data": {
      "text/html": [
       "<div>\n",
       "<style>\n",
       "    .dataframe thead tr:only-child th {\n",
       "        text-align: right;\n",
       "    }\n",
       "\n",
       "    .dataframe thead th {\n",
       "        text-align: left;\n",
       "    }\n",
       "\n",
       "    .dataframe tbody tr th {\n",
       "        vertical-align: top;\n",
       "    }\n",
       "</style>\n",
       "<table border=\"1\" class=\"dataframe\">\n",
       "  <thead>\n",
       "    <tr style=\"text-align: right;\">\n",
       "      <th></th>\n",
       "      <th>pct_chg_opencls</th>\n",
       "      <th>first_day_pctchg</th>\n",
       "    </tr>\n",
       "    <tr>\n",
       "      <th>star_rating</th>\n",
       "      <th></th>\n",
       "      <th></th>\n",
       "    </tr>\n",
       "  </thead>\n",
       "  <tbody>\n",
       "    <tr>\n",
       "      <th>0.0</th>\n",
       "      <td>5.647722</td>\n",
       "      <td>39.401027</td>\n",
       "    </tr>\n",
       "    <tr>\n",
       "      <th>1.0</th>\n",
       "      <td>0.495960</td>\n",
       "      <td>2.399954</td>\n",
       "    </tr>\n",
       "    <tr>\n",
       "      <th>2.0</th>\n",
       "      <td>1.573844</td>\n",
       "      <td>12.375120</td>\n",
       "    </tr>\n",
       "    <tr>\n",
       "      <th>3.0</th>\n",
       "      <td>2.416812</td>\n",
       "      <td>29.281555</td>\n",
       "    </tr>\n",
       "    <tr>\n",
       "      <th>4.0</th>\n",
       "      <td>5.080942</td>\n",
       "      <td>66.012495</td>\n",
       "    </tr>\n",
       "    <tr>\n",
       "      <th>5.0</th>\n",
       "      <td>0.534018</td>\n",
       "      <td>122.319550</td>\n",
       "    </tr>\n",
       "  </tbody>\n",
       "</table>\n",
       "</div>"
      ],
      "text/plain": [
       "             pct_chg_opencls  first_day_pctchg\n",
       "star_rating                                   \n",
       "0.0                 5.647722         39.401027\n",
       "1.0                 0.495960          2.399954\n",
       "2.0                 1.573844         12.375120\n",
       "3.0                 2.416812         29.281555\n",
       "4.0                 5.080942         66.012495\n",
       "5.0                 0.534018        122.319550"
      ]
     },
     "execution_count": 64,
     "metadata": {},
     "output_type": "execute_result"
    }
   ],
   "source": [
    "#performance looks correlated with star rating, except the 0 and 5 ratings look off\n",
    "df.groupby('star_rating')[['pct_chg_opencls','first_day_pctchg']].mean()"
   ]
  },
  {
   "cell_type": "code",
   "execution_count": 65,
   "metadata": {
    "collapsed": true
   },
   "outputs": [],
   "source": [
    "#change the 0 ratings to 5's - this is a guess\n",
    "df['star_rating'] = df['star_rating'].replace(0, 5)"
   ]
  },
  {
   "cell_type": "code",
   "execution_count": 66,
   "metadata": {},
   "outputs": [
    {
     "data": {
      "text/html": [
       "<div>\n",
       "<style>\n",
       "    .dataframe thead tr:only-child th {\n",
       "        text-align: right;\n",
       "    }\n",
       "\n",
       "    .dataframe thead th {\n",
       "        text-align: left;\n",
       "    }\n",
       "\n",
       "    .dataframe tbody tr th {\n",
       "        vertical-align: top;\n",
       "    }\n",
       "</style>\n",
       "<table border=\"1\" class=\"dataframe\">\n",
       "  <thead>\n",
       "    <tr style=\"text-align: right;\">\n",
       "      <th></th>\n",
       "      <th>pct_chg_opencls</th>\n",
       "      <th>first_day_pctchg</th>\n",
       "    </tr>\n",
       "    <tr>\n",
       "      <th>star_rating</th>\n",
       "      <th></th>\n",
       "      <th></th>\n",
       "    </tr>\n",
       "  </thead>\n",
       "  <tbody>\n",
       "    <tr>\n",
       "      <th>1.0</th>\n",
       "      <td>0.495960</td>\n",
       "      <td>2.399954</td>\n",
       "    </tr>\n",
       "    <tr>\n",
       "      <th>2.0</th>\n",
       "      <td>1.573844</td>\n",
       "      <td>12.375120</td>\n",
       "    </tr>\n",
       "    <tr>\n",
       "      <th>3.0</th>\n",
       "      <td>2.416812</td>\n",
       "      <td>29.281555</td>\n",
       "    </tr>\n",
       "    <tr>\n",
       "      <th>4.0</th>\n",
       "      <td>5.080942</td>\n",
       "      <td>66.012495</td>\n",
       "    </tr>\n",
       "    <tr>\n",
       "      <th>5.0</th>\n",
       "      <td>3.241273</td>\n",
       "      <td>78.421509</td>\n",
       "    </tr>\n",
       "  </tbody>\n",
       "</table>\n",
       "</div>"
      ],
      "text/plain": [
       "             pct_chg_opencls  first_day_pctchg\n",
       "star_rating                                   \n",
       "1.0                 0.495960          2.399954\n",
       "2.0                 1.573844         12.375120\n",
       "3.0                 2.416812         29.281555\n",
       "4.0                 5.080942         66.012495\n",
       "5.0                 3.241273         78.421509"
      ]
     },
     "execution_count": 66,
     "metadata": {},
     "output_type": "execute_result"
    }
   ],
   "source": [
    "df.groupby('star_rating')[['pct_chg_opencls','first_day_pctchg']].mean()"
   ]
  },
  {
   "cell_type": "markdown",
   "metadata": {},
   "source": [
    "#### Add features for month and day"
   ]
  },
  {
   "cell_type": "code",
   "execution_count": 67,
   "metadata": {
    "collapsed": true
   },
   "outputs": [],
   "source": [
    "df['month'] = df.date.dt.month"
   ]
  },
  {
   "cell_type": "code",
   "execution_count": 68,
   "metadata": {},
   "outputs": [
    {
     "data": {
      "text/plain": [
       "date\n",
       "2000-05-12    5\n",
       "2000-05-18    5\n",
       "2000-05-18    5\n",
       "2000-05-18    5\n",
       "2000-05-18    5\n",
       "Name: month, dtype: int64"
      ]
     },
     "execution_count": 68,
     "metadata": {},
     "output_type": "execute_result"
    }
   ],
   "source": [
    "df.month[:5]"
   ]
  },
  {
   "cell_type": "code",
   "execution_count": 69,
   "metadata": {
    "collapsed": true
   },
   "outputs": [],
   "source": [
    "df['day'] = df.date.dt.dayofweek"
   ]
  },
  {
   "cell_type": "code",
   "execution_count": 70,
   "metadata": {},
   "outputs": [
    {
     "data": {
      "text/plain": [
       "date\n",
       "2000-05-12    4\n",
       "2000-05-18    3\n",
       "2000-05-18    3\n",
       "2000-05-18    3\n",
       "2000-05-18    3\n",
       "Name: day, dtype: int64"
      ]
     },
     "execution_count": 70,
     "metadata": {},
     "output_type": "execute_result"
    }
   ],
   "source": [
    "df['day'][:5]"
   ]
  },
  {
   "cell_type": "code",
   "execution_count": 71,
   "metadata": {},
   "outputs": [
    {
     "data": {
      "text/html": [
       "<div>\n",
       "<style>\n",
       "    .dataframe thead tr:only-child th {\n",
       "        text-align: right;\n",
       "    }\n",
       "\n",
       "    .dataframe thead th {\n",
       "        text-align: left;\n",
       "    }\n",
       "\n",
       "    .dataframe tbody tr th {\n",
       "        vertical-align: top;\n",
       "    }\n",
       "</style>\n",
       "<table border=\"1\" class=\"dataframe\">\n",
       "  <thead>\n",
       "    <tr style=\"text-align: right;\">\n",
       "      <th></th>\n",
       "      <th>date</th>\n",
       "      <th>issuer</th>\n",
       "      <th>symbol</th>\n",
       "      <th>managers</th>\n",
       "      <th>offer_price</th>\n",
       "      <th>open_price</th>\n",
       "      <th>first_day_close</th>\n",
       "      <th>first_day_pctchg</th>\n",
       "      <th>dollar_change_open</th>\n",
       "      <th>dollar_change_close</th>\n",
       "      <th>star_rating</th>\n",
       "      <th>performed</th>\n",
       "      <th>dollar_chg_opencls</th>\n",
       "      <th>pct_chg_opencls</th>\n",
       "      <th>gap_open_pct</th>\n",
       "      <th>sp_chg_pct_week</th>\n",
       "      <th>lead_mgr</th>\n",
       "      <th>month</th>\n",
       "      <th>day</th>\n",
       "    </tr>\n",
       "    <tr>\n",
       "      <th>date</th>\n",
       "      <th></th>\n",
       "      <th></th>\n",
       "      <th></th>\n",
       "      <th></th>\n",
       "      <th></th>\n",
       "      <th></th>\n",
       "      <th></th>\n",
       "      <th></th>\n",
       "      <th></th>\n",
       "      <th></th>\n",
       "      <th></th>\n",
       "      <th></th>\n",
       "      <th></th>\n",
       "      <th></th>\n",
       "      <th></th>\n",
       "      <th></th>\n",
       "      <th></th>\n",
       "      <th></th>\n",
       "      <th></th>\n",
       "    </tr>\n",
       "  </thead>\n",
       "  <tbody>\n",
       "    <tr>\n",
       "      <th>2000-05-12</th>\n",
       "      <td>2000-05-12</td>\n",
       "      <td>Sequoia Software</td>\n",
       "      <td>SQSW</td>\n",
       "      <td>Lehman Brothers</td>\n",
       "      <td>8.0</td>\n",
       "      <td>10.25</td>\n",
       "      <td>10.06</td>\n",
       "      <td>25.750000</td>\n",
       "      <td>2.25</td>\n",
       "      <td>2.06</td>\n",
       "      <td>2.0</td>\n",
       "      <td>NaN</td>\n",
       "      <td>-0.19</td>\n",
       "      <td>-1.853659</td>\n",
       "      <td>28.125000</td>\n",
       "      <td>-0.374697</td>\n",
       "      <td>Lehman Brothers</td>\n",
       "      <td>5</td>\n",
       "      <td>4</td>\n",
       "    </tr>\n",
       "    <tr>\n",
       "      <th>2000-05-18</th>\n",
       "      <td>2000-05-18</td>\n",
       "      <td>US Unwired</td>\n",
       "      <td>UNWR</td>\n",
       "      <td>Donaldson Lufkin &amp; Jenrette</td>\n",
       "      <td>11.0</td>\n",
       "      <td>11.03</td>\n",
       "      <td>11.06</td>\n",
       "      <td>0.545455</td>\n",
       "      <td>0.03</td>\n",
       "      <td>0.06</td>\n",
       "      <td>1.0</td>\n",
       "      <td>NaN</td>\n",
       "      <td>0.03</td>\n",
       "      <td>0.271985</td>\n",
       "      <td>0.272727</td>\n",
       "      <td>5.090497</td>\n",
       "      <td>Donaldson Lufkin &amp; Jenrette</td>\n",
       "      <td>5</td>\n",
       "      <td>3</td>\n",
       "    </tr>\n",
       "    <tr>\n",
       "      <th>2000-05-18</th>\n",
       "      <td>2000-05-18</td>\n",
       "      <td>Nogatech</td>\n",
       "      <td>NGTC</td>\n",
       "      <td>W.R. Hambrecht+Co</td>\n",
       "      <td>12.0</td>\n",
       "      <td>11.88</td>\n",
       "      <td>9.41</td>\n",
       "      <td>-21.583333</td>\n",
       "      <td>-0.12</td>\n",
       "      <td>-2.59</td>\n",
       "      <td>1.0</td>\n",
       "      <td>NaN</td>\n",
       "      <td>-2.47</td>\n",
       "      <td>-20.791246</td>\n",
       "      <td>-1.000000</td>\n",
       "      <td>5.090497</td>\n",
       "      <td>W.R. Hambrecht+Co</td>\n",
       "      <td>5</td>\n",
       "      <td>3</td>\n",
       "    </tr>\n",
       "    <tr>\n",
       "      <th>2000-05-18</th>\n",
       "      <td>2000-05-18</td>\n",
       "      <td>New Focus</td>\n",
       "      <td>NUFO</td>\n",
       "      <td>Credit Suisse First Boston</td>\n",
       "      <td>20.0</td>\n",
       "      <td>40.00</td>\n",
       "      <td>51.00</td>\n",
       "      <td>155.000000</td>\n",
       "      <td>20.00</td>\n",
       "      <td>31.00</td>\n",
       "      <td>3.0</td>\n",
       "      <td>NaN</td>\n",
       "      <td>11.00</td>\n",
       "      <td>27.500000</td>\n",
       "      <td>100.000000</td>\n",
       "      <td>5.090497</td>\n",
       "      <td>Credit Suisse First Boston</td>\n",
       "      <td>5</td>\n",
       "      <td>3</td>\n",
       "    </tr>\n",
       "    <tr>\n",
       "      <th>2000-05-18</th>\n",
       "      <td>2000-05-18</td>\n",
       "      <td>iBEAM Broadcasting</td>\n",
       "      <td>IBEM</td>\n",
       "      <td>Morgan Stanley Dean Witter</td>\n",
       "      <td>10.0</td>\n",
       "      <td>11.50</td>\n",
       "      <td>14.00</td>\n",
       "      <td>40.000000</td>\n",
       "      <td>1.50</td>\n",
       "      <td>4.00</td>\n",
       "      <td>2.0</td>\n",
       "      <td>NaN</td>\n",
       "      <td>2.50</td>\n",
       "      <td>21.739130</td>\n",
       "      <td>15.000000</td>\n",
       "      <td>5.090497</td>\n",
       "      <td>Morgan Stanley Dean Witter</td>\n",
       "      <td>5</td>\n",
       "      <td>3</td>\n",
       "    </tr>\n",
       "  </tbody>\n",
       "</table>\n",
       "</div>"
      ],
      "text/plain": [
       "                 date               issuer symbol  \\\n",
       "date                                                \n",
       "2000-05-12 2000-05-12    Sequoia Software    SQSW   \n",
       "2000-05-18 2000-05-18           US Unwired   UNWR   \n",
       "2000-05-18 2000-05-18            Nogatech    NGTC   \n",
       "2000-05-18 2000-05-18           New Focus    NUFO   \n",
       "2000-05-18 2000-05-18  iBEAM Broadcasting    IBEM   \n",
       "\n",
       "                               managers  offer_price  open_price  \\\n",
       "date                                                               \n",
       "2000-05-12              Lehman Brothers          8.0       10.25   \n",
       "2000-05-18  Donaldson Lufkin & Jenrette         11.0       11.03   \n",
       "2000-05-18            W.R. Hambrecht+Co         12.0       11.88   \n",
       "2000-05-18   Credit Suisse First Boston         20.0       40.00   \n",
       "2000-05-18   Morgan Stanley Dean Witter         10.0       11.50   \n",
       "\n",
       "            first_day_close  first_day_pctchg  dollar_change_open  \\\n",
       "date                                                                \n",
       "2000-05-12            10.06         25.750000                2.25   \n",
       "2000-05-18            11.06          0.545455                0.03   \n",
       "2000-05-18             9.41        -21.583333               -0.12   \n",
       "2000-05-18            51.00        155.000000               20.00   \n",
       "2000-05-18            14.00         40.000000                1.50   \n",
       "\n",
       "            dollar_change_close  star_rating performed  dollar_chg_opencls  \\\n",
       "date                                                                         \n",
       "2000-05-12                 2.06          2.0       NaN               -0.19   \n",
       "2000-05-18                 0.06          1.0       NaN                0.03   \n",
       "2000-05-18                -2.59          1.0       NaN               -2.47   \n",
       "2000-05-18                31.00          3.0       NaN               11.00   \n",
       "2000-05-18                 4.00          2.0       NaN                2.50   \n",
       "\n",
       "            pct_chg_opencls  gap_open_pct  sp_chg_pct_week  \\\n",
       "date                                                         \n",
       "2000-05-12        -1.853659     28.125000        -0.374697   \n",
       "2000-05-18         0.271985      0.272727         5.090497   \n",
       "2000-05-18       -20.791246     -1.000000         5.090497   \n",
       "2000-05-18        27.500000    100.000000         5.090497   \n",
       "2000-05-18        21.739130     15.000000         5.090497   \n",
       "\n",
       "                               lead_mgr  month  day  \n",
       "date                                                 \n",
       "2000-05-12              Lehman Brothers      5    4  \n",
       "2000-05-18  Donaldson Lufkin & Jenrette      5    3  \n",
       "2000-05-18            W.R. Hambrecht+Co      5    3  \n",
       "2000-05-18   Credit Suisse First Boston      5    3  \n",
       "2000-05-18   Morgan Stanley Dean Witter      5    3  "
      ]
     },
     "execution_count": 71,
     "metadata": {},
     "output_type": "execute_result"
    }
   ],
   "source": [
    "df.head()"
   ]
  },
  {
   "cell_type": "code",
   "execution_count": 72,
   "metadata": {
    "collapsed": true
   },
   "outputs": [],
   "source": [
    "df['day'] = df.day.map({1: 'mon', 2: 'tues', 3: 'weds', 4:'thurs', 5:'fri'   })"
   ]
  },
  {
   "cell_type": "code",
   "execution_count": 73,
   "metadata": {
    "collapsed": true
   },
   "outputs": [],
   "source": [
    "df['month'] = df.month.map({1: 'jan', 2: 'feb', 3: 'mar', 4:'apr', 5:'may', 6:'jun', 7:'jul', 8: 'aug', 9: 'sept', 10: 'oct', 11: 'nov', 12: 'dec'})"
   ]
  },
  {
   "cell_type": "code",
   "execution_count": 74,
   "metadata": {},
   "outputs": [
    {
     "data": {
      "text/html": [
       "<div>\n",
       "<style>\n",
       "    .dataframe thead tr:only-child th {\n",
       "        text-align: right;\n",
       "    }\n",
       "\n",
       "    .dataframe thead th {\n",
       "        text-align: left;\n",
       "    }\n",
       "\n",
       "    .dataframe tbody tr th {\n",
       "        vertical-align: top;\n",
       "    }\n",
       "</style>\n",
       "<table border=\"1\" class=\"dataframe\">\n",
       "  <thead>\n",
       "    <tr style=\"text-align: right;\">\n",
       "      <th></th>\n",
       "      <th>date</th>\n",
       "      <th>issuer</th>\n",
       "      <th>symbol</th>\n",
       "      <th>managers</th>\n",
       "      <th>offer_price</th>\n",
       "      <th>open_price</th>\n",
       "      <th>first_day_close</th>\n",
       "      <th>first_day_pctchg</th>\n",
       "      <th>dollar_change_open</th>\n",
       "      <th>dollar_change_close</th>\n",
       "      <th>star_rating</th>\n",
       "      <th>performed</th>\n",
       "      <th>dollar_chg_opencls</th>\n",
       "      <th>pct_chg_opencls</th>\n",
       "      <th>gap_open_pct</th>\n",
       "      <th>sp_chg_pct_week</th>\n",
       "      <th>lead_mgr</th>\n",
       "      <th>month</th>\n",
       "      <th>day</th>\n",
       "    </tr>\n",
       "    <tr>\n",
       "      <th>date</th>\n",
       "      <th></th>\n",
       "      <th></th>\n",
       "      <th></th>\n",
       "      <th></th>\n",
       "      <th></th>\n",
       "      <th></th>\n",
       "      <th></th>\n",
       "      <th></th>\n",
       "      <th></th>\n",
       "      <th></th>\n",
       "      <th></th>\n",
       "      <th></th>\n",
       "      <th></th>\n",
       "      <th></th>\n",
       "      <th></th>\n",
       "      <th></th>\n",
       "      <th></th>\n",
       "      <th></th>\n",
       "      <th></th>\n",
       "    </tr>\n",
       "  </thead>\n",
       "  <tbody>\n",
       "    <tr>\n",
       "      <th>2000-05-12</th>\n",
       "      <td>2000-05-12</td>\n",
       "      <td>Sequoia Software</td>\n",
       "      <td>SQSW</td>\n",
       "      <td>Lehman Brothers</td>\n",
       "      <td>8.0</td>\n",
       "      <td>10.25</td>\n",
       "      <td>10.06</td>\n",
       "      <td>25.750000</td>\n",
       "      <td>2.25</td>\n",
       "      <td>2.06</td>\n",
       "      <td>2.0</td>\n",
       "      <td>NaN</td>\n",
       "      <td>-0.19</td>\n",
       "      <td>-1.853659</td>\n",
       "      <td>28.125000</td>\n",
       "      <td>-0.374697</td>\n",
       "      <td>Lehman Brothers</td>\n",
       "      <td>may</td>\n",
       "      <td>thurs</td>\n",
       "    </tr>\n",
       "    <tr>\n",
       "      <th>2000-05-18</th>\n",
       "      <td>2000-05-18</td>\n",
       "      <td>US Unwired</td>\n",
       "      <td>UNWR</td>\n",
       "      <td>Donaldson Lufkin &amp; Jenrette</td>\n",
       "      <td>11.0</td>\n",
       "      <td>11.03</td>\n",
       "      <td>11.06</td>\n",
       "      <td>0.545455</td>\n",
       "      <td>0.03</td>\n",
       "      <td>0.06</td>\n",
       "      <td>1.0</td>\n",
       "      <td>NaN</td>\n",
       "      <td>0.03</td>\n",
       "      <td>0.271985</td>\n",
       "      <td>0.272727</td>\n",
       "      <td>5.090497</td>\n",
       "      <td>Donaldson Lufkin &amp; Jenrette</td>\n",
       "      <td>may</td>\n",
       "      <td>weds</td>\n",
       "    </tr>\n",
       "    <tr>\n",
       "      <th>2000-05-18</th>\n",
       "      <td>2000-05-18</td>\n",
       "      <td>Nogatech</td>\n",
       "      <td>NGTC</td>\n",
       "      <td>W.R. Hambrecht+Co</td>\n",
       "      <td>12.0</td>\n",
       "      <td>11.88</td>\n",
       "      <td>9.41</td>\n",
       "      <td>-21.583333</td>\n",
       "      <td>-0.12</td>\n",
       "      <td>-2.59</td>\n",
       "      <td>1.0</td>\n",
       "      <td>NaN</td>\n",
       "      <td>-2.47</td>\n",
       "      <td>-20.791246</td>\n",
       "      <td>-1.000000</td>\n",
       "      <td>5.090497</td>\n",
       "      <td>W.R. Hambrecht+Co</td>\n",
       "      <td>may</td>\n",
       "      <td>weds</td>\n",
       "    </tr>\n",
       "    <tr>\n",
       "      <th>2000-05-18</th>\n",
       "      <td>2000-05-18</td>\n",
       "      <td>New Focus</td>\n",
       "      <td>NUFO</td>\n",
       "      <td>Credit Suisse First Boston</td>\n",
       "      <td>20.0</td>\n",
       "      <td>40.00</td>\n",
       "      <td>51.00</td>\n",
       "      <td>155.000000</td>\n",
       "      <td>20.00</td>\n",
       "      <td>31.00</td>\n",
       "      <td>3.0</td>\n",
       "      <td>NaN</td>\n",
       "      <td>11.00</td>\n",
       "      <td>27.500000</td>\n",
       "      <td>100.000000</td>\n",
       "      <td>5.090497</td>\n",
       "      <td>Credit Suisse First Boston</td>\n",
       "      <td>may</td>\n",
       "      <td>weds</td>\n",
       "    </tr>\n",
       "    <tr>\n",
       "      <th>2000-05-18</th>\n",
       "      <td>2000-05-18</td>\n",
       "      <td>iBEAM Broadcasting</td>\n",
       "      <td>IBEM</td>\n",
       "      <td>Morgan Stanley Dean Witter</td>\n",
       "      <td>10.0</td>\n",
       "      <td>11.50</td>\n",
       "      <td>14.00</td>\n",
       "      <td>40.000000</td>\n",
       "      <td>1.50</td>\n",
       "      <td>4.00</td>\n",
       "      <td>2.0</td>\n",
       "      <td>NaN</td>\n",
       "      <td>2.50</td>\n",
       "      <td>21.739130</td>\n",
       "      <td>15.000000</td>\n",
       "      <td>5.090497</td>\n",
       "      <td>Morgan Stanley Dean Witter</td>\n",
       "      <td>may</td>\n",
       "      <td>weds</td>\n",
       "    </tr>\n",
       "  </tbody>\n",
       "</table>\n",
       "</div>"
      ],
      "text/plain": [
       "                 date               issuer symbol  \\\n",
       "date                                                \n",
       "2000-05-12 2000-05-12    Sequoia Software    SQSW   \n",
       "2000-05-18 2000-05-18           US Unwired   UNWR   \n",
       "2000-05-18 2000-05-18            Nogatech    NGTC   \n",
       "2000-05-18 2000-05-18           New Focus    NUFO   \n",
       "2000-05-18 2000-05-18  iBEAM Broadcasting    IBEM   \n",
       "\n",
       "                               managers  offer_price  open_price  \\\n",
       "date                                                               \n",
       "2000-05-12              Lehman Brothers          8.0       10.25   \n",
       "2000-05-18  Donaldson Lufkin & Jenrette         11.0       11.03   \n",
       "2000-05-18            W.R. Hambrecht+Co         12.0       11.88   \n",
       "2000-05-18   Credit Suisse First Boston         20.0       40.00   \n",
       "2000-05-18   Morgan Stanley Dean Witter         10.0       11.50   \n",
       "\n",
       "            first_day_close  first_day_pctchg  dollar_change_open  \\\n",
       "date                                                                \n",
       "2000-05-12            10.06         25.750000                2.25   \n",
       "2000-05-18            11.06          0.545455                0.03   \n",
       "2000-05-18             9.41        -21.583333               -0.12   \n",
       "2000-05-18            51.00        155.000000               20.00   \n",
       "2000-05-18            14.00         40.000000                1.50   \n",
       "\n",
       "            dollar_change_close  star_rating performed  dollar_chg_opencls  \\\n",
       "date                                                                         \n",
       "2000-05-12                 2.06          2.0       NaN               -0.19   \n",
       "2000-05-18                 0.06          1.0       NaN                0.03   \n",
       "2000-05-18                -2.59          1.0       NaN               -2.47   \n",
       "2000-05-18                31.00          3.0       NaN               11.00   \n",
       "2000-05-18                 4.00          2.0       NaN                2.50   \n",
       "\n",
       "            pct_chg_opencls  gap_open_pct  sp_chg_pct_week  \\\n",
       "date                                                         \n",
       "2000-05-12        -1.853659     28.125000        -0.374697   \n",
       "2000-05-18         0.271985      0.272727         5.090497   \n",
       "2000-05-18       -20.791246     -1.000000         5.090497   \n",
       "2000-05-18        27.500000    100.000000         5.090497   \n",
       "2000-05-18        21.739130     15.000000         5.090497   \n",
       "\n",
       "                               lead_mgr month    day  \n",
       "date                                                  \n",
       "2000-05-12              Lehman Brothers   may  thurs  \n",
       "2000-05-18  Donaldson Lufkin & Jenrette   may   weds  \n",
       "2000-05-18            W.R. Hambrecht+Co   may   weds  \n",
       "2000-05-18   Credit Suisse First Boston   may   weds  \n",
       "2000-05-18   Morgan Stanley Dean Witter   may   weds  "
      ]
     },
     "execution_count": 74,
     "metadata": {},
     "output_type": "execute_result"
    }
   ],
   "source": [
    "df.head()"
   ]
  },
  {
   "cell_type": "code",
   "execution_count": 75,
   "metadata": {},
   "outputs": [
    {
     "data": {
      "text/plain": [
       "weds     1031\n",
       "tues      785\n",
       "thurs     714\n",
       "mon       426\n",
       "fri         4\n",
       "Name: day, dtype: int64"
      ]
     },
     "execution_count": 75,
     "metadata": {},
     "output_type": "execute_result"
    }
   ],
   "source": [
    "#very few IPO's on Friday\n",
    "df.day.value_counts()"
   ]
  },
  {
   "cell_type": "code",
   "execution_count": 76,
   "metadata": {
    "collapsed": true
   },
   "outputs": [],
   "source": [
    "#combine thurs and fri into single category\n",
    "df['day'] = df['day'].replace('fri', 'thurs')"
   ]
  },
  {
   "cell_type": "code",
   "execution_count": 77,
   "metadata": {},
   "outputs": [
    {
     "data": {
      "text/plain": [
       "oct     347\n",
       "jun     339\n",
       "nov     320\n",
       "jul     315\n",
       "may     305\n",
       "aug     255\n",
       "dec     255\n",
       "feb     236\n",
       "apr     229\n",
       "mar     205\n",
       "sept    183\n",
       "jan     134\n",
       "Name: month, dtype: int64"
      ]
     },
     "execution_count": 77,
     "metadata": {},
     "output_type": "execute_result"
    }
   ],
   "source": [
    "df.month.value_counts()"
   ]
  },
  {
   "cell_type": "code",
   "execution_count": 78,
   "metadata": {},
   "outputs": [
    {
     "data": {
      "text/html": [
       "<div>\n",
       "<style>\n",
       "    .dataframe thead tr:only-child th {\n",
       "        text-align: right;\n",
       "    }\n",
       "\n",
       "    .dataframe thead th {\n",
       "        text-align: left;\n",
       "    }\n",
       "\n",
       "    .dataframe tbody tr th {\n",
       "        vertical-align: top;\n",
       "    }\n",
       "</style>\n",
       "<table border=\"1\" class=\"dataframe\">\n",
       "  <thead>\n",
       "    <tr style=\"text-align: right;\">\n",
       "      <th></th>\n",
       "      <th>pct_chg_opencls</th>\n",
       "      <th>first_day_pctchg</th>\n",
       "    </tr>\n",
       "    <tr>\n",
       "      <th>day</th>\n",
       "      <th></th>\n",
       "      <th></th>\n",
       "    </tr>\n",
       "  </thead>\n",
       "  <tbody>\n",
       "    <tr>\n",
       "      <th>mon</th>\n",
       "      <td>0.749671</td>\n",
       "      <td>12.636221</td>\n",
       "    </tr>\n",
       "    <tr>\n",
       "      <th>thurs</th>\n",
       "      <td>2.209400</td>\n",
       "      <td>15.898536</td>\n",
       "    </tr>\n",
       "    <tr>\n",
       "      <th>tues</th>\n",
       "      <td>0.978561</td>\n",
       "      <td>11.721855</td>\n",
       "    </tr>\n",
       "    <tr>\n",
       "      <th>weds</th>\n",
       "      <td>1.328884</td>\n",
       "      <td>13.233905</td>\n",
       "    </tr>\n",
       "  </tbody>\n",
       "</table>\n",
       "</div>"
      ],
      "text/plain": [
       "       pct_chg_opencls  first_day_pctchg\n",
       "day                                     \n",
       "mon           0.749671         12.636221\n",
       "thurs         2.209400         15.898536\n",
       "tues          0.978561         11.721855\n",
       "weds          1.328884         13.233905"
      ]
     },
     "execution_count": 78,
     "metadata": {},
     "output_type": "execute_result"
    }
   ],
   "source": [
    "#performance correlated with day?\n",
    "df.groupby('day')[['pct_chg_opencls','first_day_pctchg']].mean()"
   ]
  },
  {
   "cell_type": "code",
   "execution_count": 79,
   "metadata": {},
   "outputs": [
    {
     "data": {
      "text/html": [
       "<div>\n",
       "<style>\n",
       "    .dataframe thead tr:only-child th {\n",
       "        text-align: right;\n",
       "    }\n",
       "\n",
       "    .dataframe thead th {\n",
       "        text-align: left;\n",
       "    }\n",
       "\n",
       "    .dataframe tbody tr th {\n",
       "        vertical-align: top;\n",
       "    }\n",
       "</style>\n",
       "<table border=\"1\" class=\"dataframe\">\n",
       "  <thead>\n",
       "    <tr style=\"text-align: right;\">\n",
       "      <th></th>\n",
       "      <th>pct_chg_opencls</th>\n",
       "      <th>first_day_pctchg</th>\n",
       "    </tr>\n",
       "    <tr>\n",
       "      <th>month</th>\n",
       "      <th></th>\n",
       "      <th></th>\n",
       "    </tr>\n",
       "  </thead>\n",
       "  <tbody>\n",
       "    <tr>\n",
       "      <th>apr</th>\n",
       "      <td>0.946249</td>\n",
       "      <td>10.984361</td>\n",
       "    </tr>\n",
       "    <tr>\n",
       "      <th>aug</th>\n",
       "      <td>2.814750</td>\n",
       "      <td>15.438452</td>\n",
       "    </tr>\n",
       "    <tr>\n",
       "      <th>dec</th>\n",
       "      <td>1.918408</td>\n",
       "      <td>12.258801</td>\n",
       "    </tr>\n",
       "    <tr>\n",
       "      <th>feb</th>\n",
       "      <td>0.865784</td>\n",
       "      <td>8.232905</td>\n",
       "    </tr>\n",
       "    <tr>\n",
       "      <th>jan</th>\n",
       "      <td>0.764413</td>\n",
       "      <td>14.202640</td>\n",
       "    </tr>\n",
       "    <tr>\n",
       "      <th>jul</th>\n",
       "      <td>2.061515</td>\n",
       "      <td>18.698466</td>\n",
       "    </tr>\n",
       "    <tr>\n",
       "      <th>jun</th>\n",
       "      <td>1.870369</td>\n",
       "      <td>15.569816</td>\n",
       "    </tr>\n",
       "    <tr>\n",
       "      <th>mar</th>\n",
       "      <td>0.259984</td>\n",
       "      <td>12.733464</td>\n",
       "    </tr>\n",
       "    <tr>\n",
       "      <th>may</th>\n",
       "      <td>0.671434</td>\n",
       "      <td>8.632691</td>\n",
       "    </tr>\n",
       "    <tr>\n",
       "      <th>nov</th>\n",
       "      <td>1.001538</td>\n",
       "      <td>10.438309</td>\n",
       "    </tr>\n",
       "    <tr>\n",
       "      <th>oct</th>\n",
       "      <td>0.067917</td>\n",
       "      <td>12.058243</td>\n",
       "    </tr>\n",
       "    <tr>\n",
       "      <th>sept</th>\n",
       "      <td>3.044354</td>\n",
       "      <td>20.296512</td>\n",
       "    </tr>\n",
       "  </tbody>\n",
       "</table>\n",
       "</div>"
      ],
      "text/plain": [
       "       pct_chg_opencls  first_day_pctchg\n",
       "month                                   \n",
       "apr           0.946249         10.984361\n",
       "aug           2.814750         15.438452\n",
       "dec           1.918408         12.258801\n",
       "feb           0.865784          8.232905\n",
       "jan           0.764413         14.202640\n",
       "jul           2.061515         18.698466\n",
       "jun           1.870369         15.569816\n",
       "mar           0.259984         12.733464\n",
       "may           0.671434          8.632691\n",
       "nov           1.001538         10.438309\n",
       "oct           0.067917         12.058243\n",
       "sept          3.044354         20.296512"
      ]
     },
     "execution_count": 79,
     "metadata": {},
     "output_type": "execute_result"
    }
   ],
   "source": [
    "#performance correlated with month?\n",
    "df.groupby('month')[['pct_chg_opencls','first_day_pctchg']].mean()"
   ]
  },
  {
   "cell_type": "markdown",
   "metadata": {},
   "source": [
    "#### Conclusions: categorical features\n",
    "- lead manager data needs cleaning and there are too many categories, disregard that feature  \n",
    "- star rating looks correlated with target variable, use this feature; is ordinal so dummies not needed  \n",
    "- include month and day features in the baseline model"
   ]
  },
  {
   "cell_type": "code",
   "execution_count": null,
   "metadata": {
    "collapsed": true
   },
   "outputs": [],
   "source": []
  },
  {
   "cell_type": "markdown",
   "metadata": {},
   "source": [
    "### Feature Selection"
   ]
  },
  {
   "cell_type": "code",
   "execution_count": 80,
   "metadata": {},
   "outputs": [
    {
     "data": {
      "text/plain": [
       "Index(['date', 'issuer', 'symbol', 'managers', 'offer_price', 'open_price',\n",
       "       'first_day_close', 'first_day_pctchg', 'dollar_change_open',\n",
       "       'dollar_change_close', 'star_rating', 'performed', 'dollar_chg_opencls',\n",
       "       'pct_chg_opencls', 'gap_open_pct', 'sp_chg_pct_week', 'lead_mgr',\n",
       "       'month', 'day'],\n",
       "      dtype='object')"
      ]
     },
     "execution_count": 80,
     "metadata": {},
     "output_type": "execute_result"
    }
   ],
   "source": [
    "df.columns"
   ]
  },
  {
   "cell_type": "code",
   "execution_count": 81,
   "metadata": {
    "collapsed": true
   },
   "outputs": [],
   "source": [
    "features_list = ['month', 'day', 'gap_open_pct', 'dollar_change_open','offer_price','open_price','star_rating','sp_chg_pct_week', 'pct_chg_opencls']"
   ]
  },
  {
   "cell_type": "code",
   "execution_count": 82,
   "metadata": {
    "collapsed": true
   },
   "outputs": [],
   "source": [
    "#create dummies\n",
    "X = pd.get_dummies(df[features_list], drop_first = True)"
   ]
  },
  {
   "cell_type": "code",
   "execution_count": 83,
   "metadata": {},
   "outputs": [
    {
     "data": {
      "text/html": [
       "<div>\n",
       "<style>\n",
       "    .dataframe thead tr:only-child th {\n",
       "        text-align: right;\n",
       "    }\n",
       "\n",
       "    .dataframe thead th {\n",
       "        text-align: left;\n",
       "    }\n",
       "\n",
       "    .dataframe tbody tr th {\n",
       "        vertical-align: top;\n",
       "    }\n",
       "</style>\n",
       "<table border=\"1\" class=\"dataframe\">\n",
       "  <thead>\n",
       "    <tr style=\"text-align: right;\">\n",
       "      <th></th>\n",
       "      <th>gap_open_pct</th>\n",
       "      <th>dollar_change_open</th>\n",
       "      <th>offer_price</th>\n",
       "      <th>open_price</th>\n",
       "      <th>star_rating</th>\n",
       "      <th>sp_chg_pct_week</th>\n",
       "      <th>pct_chg_opencls</th>\n",
       "      <th>month_aug</th>\n",
       "      <th>month_dec</th>\n",
       "      <th>month_feb</th>\n",
       "      <th>...</th>\n",
       "      <th>month_jul</th>\n",
       "      <th>month_jun</th>\n",
       "      <th>month_mar</th>\n",
       "      <th>month_may</th>\n",
       "      <th>month_nov</th>\n",
       "      <th>month_oct</th>\n",
       "      <th>month_sept</th>\n",
       "      <th>day_thurs</th>\n",
       "      <th>day_tues</th>\n",
       "      <th>day_weds</th>\n",
       "    </tr>\n",
       "    <tr>\n",
       "      <th>date</th>\n",
       "      <th></th>\n",
       "      <th></th>\n",
       "      <th></th>\n",
       "      <th></th>\n",
       "      <th></th>\n",
       "      <th></th>\n",
       "      <th></th>\n",
       "      <th></th>\n",
       "      <th></th>\n",
       "      <th></th>\n",
       "      <th></th>\n",
       "      <th></th>\n",
       "      <th></th>\n",
       "      <th></th>\n",
       "      <th></th>\n",
       "      <th></th>\n",
       "      <th></th>\n",
       "      <th></th>\n",
       "      <th></th>\n",
       "      <th></th>\n",
       "      <th></th>\n",
       "    </tr>\n",
       "  </thead>\n",
       "  <tbody>\n",
       "    <tr>\n",
       "      <th>2000-05-12</th>\n",
       "      <td>28.125000</td>\n",
       "      <td>2.25</td>\n",
       "      <td>8.0</td>\n",
       "      <td>10.25</td>\n",
       "      <td>2.0</td>\n",
       "      <td>-0.374697</td>\n",
       "      <td>-1.853659</td>\n",
       "      <td>0</td>\n",
       "      <td>0</td>\n",
       "      <td>0</td>\n",
       "      <td>...</td>\n",
       "      <td>0</td>\n",
       "      <td>0</td>\n",
       "      <td>0</td>\n",
       "      <td>1</td>\n",
       "      <td>0</td>\n",
       "      <td>0</td>\n",
       "      <td>0</td>\n",
       "      <td>1</td>\n",
       "      <td>0</td>\n",
       "      <td>0</td>\n",
       "    </tr>\n",
       "    <tr>\n",
       "      <th>2000-05-18</th>\n",
       "      <td>0.272727</td>\n",
       "      <td>0.03</td>\n",
       "      <td>11.0</td>\n",
       "      <td>11.03</td>\n",
       "      <td>1.0</td>\n",
       "      <td>5.090497</td>\n",
       "      <td>0.271985</td>\n",
       "      <td>0</td>\n",
       "      <td>0</td>\n",
       "      <td>0</td>\n",
       "      <td>...</td>\n",
       "      <td>0</td>\n",
       "      <td>0</td>\n",
       "      <td>0</td>\n",
       "      <td>1</td>\n",
       "      <td>0</td>\n",
       "      <td>0</td>\n",
       "      <td>0</td>\n",
       "      <td>0</td>\n",
       "      <td>0</td>\n",
       "      <td>1</td>\n",
       "    </tr>\n",
       "    <tr>\n",
       "      <th>2000-05-18</th>\n",
       "      <td>-1.000000</td>\n",
       "      <td>-0.12</td>\n",
       "      <td>12.0</td>\n",
       "      <td>11.88</td>\n",
       "      <td>1.0</td>\n",
       "      <td>5.090497</td>\n",
       "      <td>-20.791246</td>\n",
       "      <td>0</td>\n",
       "      <td>0</td>\n",
       "      <td>0</td>\n",
       "      <td>...</td>\n",
       "      <td>0</td>\n",
       "      <td>0</td>\n",
       "      <td>0</td>\n",
       "      <td>1</td>\n",
       "      <td>0</td>\n",
       "      <td>0</td>\n",
       "      <td>0</td>\n",
       "      <td>0</td>\n",
       "      <td>0</td>\n",
       "      <td>1</td>\n",
       "    </tr>\n",
       "    <tr>\n",
       "      <th>2000-05-18</th>\n",
       "      <td>100.000000</td>\n",
       "      <td>20.00</td>\n",
       "      <td>20.0</td>\n",
       "      <td>40.00</td>\n",
       "      <td>3.0</td>\n",
       "      <td>5.090497</td>\n",
       "      <td>27.500000</td>\n",
       "      <td>0</td>\n",
       "      <td>0</td>\n",
       "      <td>0</td>\n",
       "      <td>...</td>\n",
       "      <td>0</td>\n",
       "      <td>0</td>\n",
       "      <td>0</td>\n",
       "      <td>1</td>\n",
       "      <td>0</td>\n",
       "      <td>0</td>\n",
       "      <td>0</td>\n",
       "      <td>0</td>\n",
       "      <td>0</td>\n",
       "      <td>1</td>\n",
       "    </tr>\n",
       "    <tr>\n",
       "      <th>2000-05-18</th>\n",
       "      <td>15.000000</td>\n",
       "      <td>1.50</td>\n",
       "      <td>10.0</td>\n",
       "      <td>11.50</td>\n",
       "      <td>2.0</td>\n",
       "      <td>5.090497</td>\n",
       "      <td>21.739130</td>\n",
       "      <td>0</td>\n",
       "      <td>0</td>\n",
       "      <td>0</td>\n",
       "      <td>...</td>\n",
       "      <td>0</td>\n",
       "      <td>0</td>\n",
       "      <td>0</td>\n",
       "      <td>1</td>\n",
       "      <td>0</td>\n",
       "      <td>0</td>\n",
       "      <td>0</td>\n",
       "      <td>0</td>\n",
       "      <td>0</td>\n",
       "      <td>1</td>\n",
       "    </tr>\n",
       "    <tr>\n",
       "      <th>2000-05-19</th>\n",
       "      <td>0.000000</td>\n",
       "      <td>0.00</td>\n",
       "      <td>7.0</td>\n",
       "      <td>7.00</td>\n",
       "      <td>1.0</td>\n",
       "      <td>1.482064</td>\n",
       "      <td>-21.000000</td>\n",
       "      <td>0</td>\n",
       "      <td>0</td>\n",
       "      <td>0</td>\n",
       "      <td>...</td>\n",
       "      <td>0</td>\n",
       "      <td>0</td>\n",
       "      <td>0</td>\n",
       "      <td>1</td>\n",
       "      <td>0</td>\n",
       "      <td>0</td>\n",
       "      <td>0</td>\n",
       "      <td>1</td>\n",
       "      <td>0</td>\n",
       "      <td>0</td>\n",
       "    </tr>\n",
       "    <tr>\n",
       "      <th>2000-05-19</th>\n",
       "      <td>12.500000</td>\n",
       "      <td>1.25</td>\n",
       "      <td>10.0</td>\n",
       "      <td>11.25</td>\n",
       "      <td>3.0</td>\n",
       "      <td>1.482064</td>\n",
       "      <td>-3.200000</td>\n",
       "      <td>0</td>\n",
       "      <td>0</td>\n",
       "      <td>0</td>\n",
       "      <td>...</td>\n",
       "      <td>0</td>\n",
       "      <td>0</td>\n",
       "      <td>0</td>\n",
       "      <td>1</td>\n",
       "      <td>0</td>\n",
       "      <td>0</td>\n",
       "      <td>0</td>\n",
       "      <td>1</td>\n",
       "      <td>0</td>\n",
       "      <td>0</td>\n",
       "    </tr>\n",
       "    <tr>\n",
       "      <th>2000-05-19</th>\n",
       "      <td>58.730159</td>\n",
       "      <td>7.40</td>\n",
       "      <td>12.6</td>\n",
       "      <td>20.00</td>\n",
       "      <td>3.0</td>\n",
       "      <td>1.482064</td>\n",
       "      <td>4.050000</td>\n",
       "      <td>0</td>\n",
       "      <td>0</td>\n",
       "      <td>0</td>\n",
       "      <td>...</td>\n",
       "      <td>0</td>\n",
       "      <td>0</td>\n",
       "      <td>0</td>\n",
       "      <td>1</td>\n",
       "      <td>0</td>\n",
       "      <td>0</td>\n",
       "      <td>0</td>\n",
       "      <td>1</td>\n",
       "      <td>0</td>\n",
       "      <td>0</td>\n",
       "    </tr>\n",
       "    <tr>\n",
       "      <th>2000-05-23</th>\n",
       "      <td>0.000000</td>\n",
       "      <td>0.00</td>\n",
       "      <td>13.0</td>\n",
       "      <td>13.00</td>\n",
       "      <td>1.0</td>\n",
       "      <td>-3.592132</td>\n",
       "      <td>-7.692308</td>\n",
       "      <td>0</td>\n",
       "      <td>0</td>\n",
       "      <td>0</td>\n",
       "      <td>...</td>\n",
       "      <td>0</td>\n",
       "      <td>0</td>\n",
       "      <td>0</td>\n",
       "      <td>1</td>\n",
       "      <td>0</td>\n",
       "      <td>0</td>\n",
       "      <td>0</td>\n",
       "      <td>0</td>\n",
       "      <td>0</td>\n",
       "      <td>0</td>\n",
       "    </tr>\n",
       "    <tr>\n",
       "      <th>2000-05-24</th>\n",
       "      <td>5.681818</td>\n",
       "      <td>1.25</td>\n",
       "      <td>22.0</td>\n",
       "      <td>23.25</td>\n",
       "      <td>2.0</td>\n",
       "      <td>-5.922448</td>\n",
       "      <td>-5.118280</td>\n",
       "      <td>0</td>\n",
       "      <td>0</td>\n",
       "      <td>0</td>\n",
       "      <td>...</td>\n",
       "      <td>0</td>\n",
       "      <td>0</td>\n",
       "      <td>0</td>\n",
       "      <td>1</td>\n",
       "      <td>0</td>\n",
       "      <td>0</td>\n",
       "      <td>0</td>\n",
       "      <td>0</td>\n",
       "      <td>1</td>\n",
       "      <td>0</td>\n",
       "    </tr>\n",
       "  </tbody>\n",
       "</table>\n",
       "<p>10 rows × 21 columns</p>\n",
       "</div>"
      ],
      "text/plain": [
       "            gap_open_pct  dollar_change_open  offer_price  open_price  \\\n",
       "date                                                                    \n",
       "2000-05-12     28.125000                2.25          8.0       10.25   \n",
       "2000-05-18      0.272727                0.03         11.0       11.03   \n",
       "2000-05-18     -1.000000               -0.12         12.0       11.88   \n",
       "2000-05-18    100.000000               20.00         20.0       40.00   \n",
       "2000-05-18     15.000000                1.50         10.0       11.50   \n",
       "2000-05-19      0.000000                0.00          7.0        7.00   \n",
       "2000-05-19     12.500000                1.25         10.0       11.25   \n",
       "2000-05-19     58.730159                7.40         12.6       20.00   \n",
       "2000-05-23      0.000000                0.00         13.0       13.00   \n",
       "2000-05-24      5.681818                1.25         22.0       23.25   \n",
       "\n",
       "            star_rating  sp_chg_pct_week  pct_chg_opencls  month_aug  \\\n",
       "date                                                                   \n",
       "2000-05-12          2.0        -0.374697        -1.853659          0   \n",
       "2000-05-18          1.0         5.090497         0.271985          0   \n",
       "2000-05-18          1.0         5.090497       -20.791246          0   \n",
       "2000-05-18          3.0         5.090497        27.500000          0   \n",
       "2000-05-18          2.0         5.090497        21.739130          0   \n",
       "2000-05-19          1.0         1.482064       -21.000000          0   \n",
       "2000-05-19          3.0         1.482064        -3.200000          0   \n",
       "2000-05-19          3.0         1.482064         4.050000          0   \n",
       "2000-05-23          1.0        -3.592132        -7.692308          0   \n",
       "2000-05-24          2.0        -5.922448        -5.118280          0   \n",
       "\n",
       "            month_dec  month_feb    ...     month_jul  month_jun  month_mar  \\\n",
       "date                                ...                                       \n",
       "2000-05-12          0          0    ...             0          0          0   \n",
       "2000-05-18          0          0    ...             0          0          0   \n",
       "2000-05-18          0          0    ...             0          0          0   \n",
       "2000-05-18          0          0    ...             0          0          0   \n",
       "2000-05-18          0          0    ...             0          0          0   \n",
       "2000-05-19          0          0    ...             0          0          0   \n",
       "2000-05-19          0          0    ...             0          0          0   \n",
       "2000-05-19          0          0    ...             0          0          0   \n",
       "2000-05-23          0          0    ...             0          0          0   \n",
       "2000-05-24          0          0    ...             0          0          0   \n",
       "\n",
       "            month_may  month_nov  month_oct  month_sept  day_thurs  day_tues  \\\n",
       "date                                                                           \n",
       "2000-05-12          1          0          0           0          1         0   \n",
       "2000-05-18          1          0          0           0          0         0   \n",
       "2000-05-18          1          0          0           0          0         0   \n",
       "2000-05-18          1          0          0           0          0         0   \n",
       "2000-05-18          1          0          0           0          0         0   \n",
       "2000-05-19          1          0          0           0          1         0   \n",
       "2000-05-19          1          0          0           0          1         0   \n",
       "2000-05-19          1          0          0           0          1         0   \n",
       "2000-05-23          1          0          0           0          0         0   \n",
       "2000-05-24          1          0          0           0          0         1   \n",
       "\n",
       "            day_weds  \n",
       "date                  \n",
       "2000-05-12         0  \n",
       "2000-05-18         1  \n",
       "2000-05-18         1  \n",
       "2000-05-18         1  \n",
       "2000-05-18         1  \n",
       "2000-05-19         0  \n",
       "2000-05-19         0  \n",
       "2000-05-19         0  \n",
       "2000-05-23         0  \n",
       "2000-05-24         0  \n",
       "\n",
       "[10 rows x 21 columns]"
      ]
     },
     "execution_count": 83,
     "metadata": {},
     "output_type": "execute_result"
    }
   ],
   "source": [
    "X.head(10)"
   ]
  },
  {
   "cell_type": "code",
   "execution_count": 84,
   "metadata": {},
   "outputs": [
    {
     "data": {
      "text/plain": [
       "(3123, 21)"
      ]
     },
     "execution_count": 84,
     "metadata": {},
     "output_type": "execute_result"
    }
   ],
   "source": [
    "X.shape"
   ]
  },
  {
   "cell_type": "code",
   "execution_count": 85,
   "metadata": {},
   "outputs": [
    {
     "data": {
      "text/plain": [
       "gap_open_pct          0\n",
       "dollar_change_open    0\n",
       "offer_price           0\n",
       "open_price            0\n",
       "star_rating           0\n",
       "sp_chg_pct_week       0\n",
       "pct_chg_opencls       0\n",
       "month_aug             0\n",
       "month_dec             0\n",
       "month_feb             0\n",
       "month_jan             0\n",
       "month_jul             0\n",
       "month_jun             0\n",
       "month_mar             0\n",
       "month_may             0\n",
       "month_nov             0\n",
       "month_oct             0\n",
       "month_sept            0\n",
       "day_thurs             0\n",
       "day_tues              0\n",
       "day_weds              0\n",
       "dtype: int64"
      ]
     },
     "execution_count": 85,
     "metadata": {},
     "output_type": "execute_result"
    }
   ],
   "source": [
    "X.isnull().sum()"
   ]
  },
  {
   "cell_type": "code",
   "execution_count": 86,
   "metadata": {},
   "outputs": [
    {
     "data": {
      "text/plain": [
       "gap_open_pct          0.071590\n",
       "dollar_change_open    0.076116\n",
       "offer_price           0.012794\n",
       "open_price            0.047086\n",
       "star_rating           0.087924\n",
       "sp_chg_pct_week       0.011977\n",
       "pct_chg_opencls       1.000000\n",
       "month_aug             0.041106\n",
       "month_dec             0.016186\n",
       "month_feb            -0.012542\n",
       "month_jan            -0.011289\n",
       "month_jul             0.022650\n",
       "month_jun             0.017378\n",
       "month_mar            -0.026598\n",
       "month_may            -0.020393\n",
       "month_nov            -0.010545\n",
       "month_oct            -0.041811\n",
       "month_sept            0.039735\n",
       "day_thurs             0.044484\n",
       "day_tues             -0.019325\n",
       "day_weds             -0.000482\n",
       "Name: pct_chg_opencls, dtype: float64"
      ]
     },
     "execution_count": 86,
     "metadata": {},
     "output_type": "execute_result"
    }
   ],
   "source": [
    "X.corr()['pct_chg_opencls']"
   ]
  },
  {
   "cell_type": "code",
   "execution_count": null,
   "metadata": {
    "collapsed": true
   },
   "outputs": [],
   "source": []
  },
  {
   "cell_type": "code",
   "execution_count": null,
   "metadata": {
    "collapsed": true
   },
   "outputs": [],
   "source": []
  },
  {
   "cell_type": "code",
   "execution_count": null,
   "metadata": {
    "collapsed": true
   },
   "outputs": [],
   "source": []
  },
  {
   "cell_type": "code",
   "execution_count": null,
   "metadata": {
    "collapsed": true
   },
   "outputs": [],
   "source": []
  },
  {
   "cell_type": "code",
   "execution_count": null,
   "metadata": {
    "collapsed": true
   },
   "outputs": [],
   "source": []
  },
  {
   "cell_type": "code",
   "execution_count": null,
   "metadata": {
    "collapsed": true
   },
   "outputs": [],
   "source": []
  },
  {
   "cell_type": "code",
   "execution_count": null,
   "metadata": {
    "collapsed": true
   },
   "outputs": [],
   "source": []
  },
  {
   "cell_type": "markdown",
   "metadata": {},
   "source": [
    "### Binary Classification"
   ]
  },
  {
   "cell_type": "code",
   "execution_count": 87,
   "metadata": {
    "collapsed": true
   },
   "outputs": [],
   "source": [
    "#use a time-based split into train, test (past predicts future)\n",
    "y = X.pct_chg_opencls\n",
    "X = X.drop('pct_chg_opencls', axis = 1)\n",
    "\n",
    "X_train, X_test = X[:2500], X[2500:]"
   ]
  },
  {
   "cell_type": "code",
   "execution_count": 88,
   "metadata": {},
   "outputs": [
    {
     "data": {
      "text/plain": [
       "(623, 20)"
      ]
     },
     "execution_count": 88,
     "metadata": {},
     "output_type": "execute_result"
    }
   ],
   "source": [
    "X_test.shape"
   ]
  },
  {
   "cell_type": "code",
   "execution_count": 89,
   "metadata": {},
   "outputs": [
    {
     "name": "stdout",
     "output_type": "stream",
     "text": [
      "<class 'pandas.core.frame.DataFrame'>\n",
      "DatetimeIndex: 623 entries, 2014-11-20 to 2018-08-10\n",
      "Data columns (total 20 columns):\n",
      "gap_open_pct          623 non-null float64\n",
      "dollar_change_open    623 non-null float64\n",
      "offer_price           623 non-null float64\n",
      "open_price            623 non-null float64\n",
      "star_rating           623 non-null float64\n",
      "sp_chg_pct_week       623 non-null float64\n",
      "month_aug             623 non-null uint8\n",
      "month_dec             623 non-null uint8\n",
      "month_feb             623 non-null uint8\n",
      "month_jan             623 non-null uint8\n",
      "month_jul             623 non-null uint8\n",
      "month_jun             623 non-null uint8\n",
      "month_mar             623 non-null uint8\n",
      "month_may             623 non-null uint8\n",
      "month_nov             623 non-null uint8\n",
      "month_oct             623 non-null uint8\n",
      "month_sept            623 non-null uint8\n",
      "day_thurs             623 non-null uint8\n",
      "day_tues              623 non-null uint8\n",
      "day_weds              623 non-null uint8\n",
      "dtypes: float64(6), uint8(14)\n",
      "memory usage: 42.6 KB\n"
     ]
    }
   ],
   "source": [
    "X_test.info()"
   ]
  },
  {
   "cell_type": "code",
   "execution_count": 90,
   "metadata": {
    "collapsed": true
   },
   "outputs": [],
   "source": [
    "#turn into binary classification model\n",
    "#boundary = 1% IPO stock price increase measured from open to close\n",
    "y = y.map(lambda x: 1 if x >= 1.0 else 0)"
   ]
  },
  {
   "cell_type": "code",
   "execution_count": 91,
   "metadata": {
    "collapsed": true
   },
   "outputs": [],
   "source": [
    "#use a time-based split into train, test (past predicts future)\n",
    "y_train = y[:2500]\n",
    "y_test = y[2500:]"
   ]
  },
  {
   "cell_type": "code",
   "execution_count": 92,
   "metadata": {},
   "outputs": [
    {
     "data": {
      "text/plain": [
       "(623,)"
      ]
     },
     "execution_count": 92,
     "metadata": {},
     "output_type": "execute_result"
    }
   ],
   "source": [
    "y_test.shape"
   ]
  },
  {
   "cell_type": "code",
   "execution_count": 93,
   "metadata": {},
   "outputs": [
    {
     "data": {
      "text/plain": [
       "date\n",
       "2000-05-12    0\n",
       "2000-05-18    0\n",
       "2000-05-18    0\n",
       "2000-05-18    1\n",
       "2000-05-18    1\n",
       "2000-05-19    0\n",
       "2000-05-19    0\n",
       "2000-05-19    1\n",
       "2000-05-23    0\n",
       "2000-05-24    0\n",
       "Name: pct_chg_opencls, dtype: int64"
      ]
     },
     "execution_count": 93,
     "metadata": {},
     "output_type": "execute_result"
    }
   ],
   "source": [
    "y_train[:10]"
   ]
  },
  {
   "cell_type": "markdown",
   "metadata": {},
   "source": [
    "### Baseline Logistic Regression Model\n",
    "- Best score measure = precision  \n",
    "- reason: this is a \"recommendation\" algo, and our recommendations must be accurate because we'll trade on those rec's  \n",
    "- algo predicts if stock's pct change relative to the open exceeds a boundary: predicting accurately implies a \"precision\" score\n",
    "precision = tp/(tp + fp) = % of positive predictions (stock is higher) we correctly predict\n",
    "- or if we're trading on both the up and down predictions (go long or short), then overall accuracy score is also good measure (along with both precision scores)\n"
   ]
  },
  {
   "cell_type": "code",
   "execution_count": 94,
   "metadata": {
    "collapsed": true
   },
   "outputs": [],
   "source": [
    "from sklearn.linear_model import LogisticRegression\n",
    "from sklearn.metrics import accuracy_score, recall_score, classification_report, precision_recall_curve, confusion_matrix, roc_auc_score"
   ]
  },
  {
   "cell_type": "code",
   "execution_count": 95,
   "metadata": {},
   "outputs": [
    {
     "data": {
      "text/plain": [
       "LogisticRegression(C=1.0, class_weight=None, dual=False, fit_intercept=True,\n",
       "          intercept_scaling=1, max_iter=100, multi_class='ovr', n_jobs=1,\n",
       "          penalty='l2', random_state=None, solver='liblinear', tol=0.0001,\n",
       "          verbose=0, warm_start=False)"
      ]
     },
     "execution_count": 95,
     "metadata": {},
     "output_type": "execute_result"
    }
   ],
   "source": [
    "clf = LogisticRegression()\n",
    "clf.fit(X_train, y_train)"
   ]
  },
  {
   "cell_type": "code",
   "execution_count": 96,
   "metadata": {
    "collapsed": true
   },
   "outputs": [],
   "source": [
    "y_pred = clf.predict(X_test)"
   ]
  },
  {
   "cell_type": "code",
   "execution_count": 97,
   "metadata": {},
   "outputs": [
    {
     "name": "stdout",
     "output_type": "stream",
     "text": [
      "             precision    recall  f1-score   support\n",
      "\n",
      "          0       0.65      0.88      0.75       401\n",
      "          1       0.43      0.16      0.23       222\n",
      "\n",
      "avg / total       0.57      0.62      0.57       623\n",
      "\n"
     ]
    }
   ],
   "source": [
    "#baseline model precision = 43%\n",
    "#clf.score(X_test, y_test)\n",
    "print(classification_report(y_test, y_pred)) "
   ]
  },
  {
   "cell_type": "code",
   "execution_count": 98,
   "metadata": {},
   "outputs": [
    {
     "data": {
      "text/plain": [
       "array([[354,  47],\n",
       "       [187,  35]], dtype=int64)"
      ]
     },
     "execution_count": 98,
     "metadata": {},
     "output_type": "execute_result"
    }
   ],
   "source": [
    "confusion_matrix(y_test, y_pred)"
   ]
  },
  {
   "cell_type": "markdown",
   "metadata": {
    "collapsed": true
   },
   "source": [
    "### Evaluate other classification models against baseline\n",
    "- Best score measure = precision  \n",
    "- reason: this is a \"recommendation\" algo, and our recommendations must be accurate because we'll trade on those rec's  \n",
    "- algo predicts if stock's pct change relative to the open exceeds a boundary: predicting accurately implies a \"precision\" score\n",
    "precision = tp/(tp + fp) = % of positive predictions (stock is higher) we correctly predict\n",
    "- or if we're trading on both the up and down predictions (go long or short), then overall accuracy score is also good measure (along with both precision scores)"
   ]
  },
  {
   "cell_type": "markdown",
   "metadata": {
    "collapsed": true
   },
   "source": [
    "### Drop correlated features and re-run the baseline"
   ]
  },
  {
   "cell_type": "code",
   "execution_count": 213,
   "metadata": {},
   "outputs": [
    {
     "data": {
      "text/plain": [
       "<seaborn.axisgrid.PairGrid at 0x12bafbe0>"
      ]
     },
     "execution_count": 213,
     "metadata": {},
     "output_type": "execute_result"
    },
    {
     "data": {
      "image/png": "[encoded data removed]",
      "text/plain": [
       "<matplotlib.figure.Figure at 0x12bafc50>"
      ]
     },
     "metadata": {},
     "output_type": "display_data"
    }
   ],
   "source": [
    "sns.pairplot(data=df[features_list])"
   ]
  },
  {
   "cell_type": "code",
   "execution_count": 214,
   "metadata": {},
   "outputs": [
    {
     "data": {
      "text/html": [
       "<div>\n",
       "<style>\n",
       "    .dataframe thead tr:only-child th {\n",
       "        text-align: right;\n",
       "    }\n",
       "\n",
       "    .dataframe thead th {\n",
       "        text-align: left;\n",
       "    }\n",
       "\n",
       "    .dataframe tbody tr th {\n",
       "        vertical-align: top;\n",
       "    }\n",
       "</style>\n",
       "<table border=\"1\" class=\"dataframe\">\n",
       "  <thead>\n",
       "    <tr style=\"text-align: right;\">\n",
       "      <th></th>\n",
       "      <th>gap_open_pct</th>\n",
       "      <th>dollar_change_open</th>\n",
       "      <th>offer_price</th>\n",
       "      <th>open_price</th>\n",
       "      <th>star_rating</th>\n",
       "      <th>sp_chg_pct_week</th>\n",
       "      <th>pct_chg_opencls</th>\n",
       "    </tr>\n",
       "  </thead>\n",
       "  <tbody>\n",
       "    <tr>\n",
       "      <th>gap_open_pct</th>\n",
       "      <td>1.000000</td>\n",
       "      <td>0.922376</td>\n",
       "      <td>0.234492</td>\n",
       "      <td>0.625786</td>\n",
       "      <td>0.552827</td>\n",
       "      <td>0.046997</td>\n",
       "      <td>0.071590</td>\n",
       "    </tr>\n",
       "    <tr>\n",
       "      <th>dollar_change_open</th>\n",
       "      <td>0.922376</td>\n",
       "      <td>1.000000</td>\n",
       "      <td>0.380965</td>\n",
       "      <td>0.766489</td>\n",
       "      <td>0.528259</td>\n",
       "      <td>0.035205</td>\n",
       "      <td>0.076116</td>\n",
       "    </tr>\n",
       "    <tr>\n",
       "      <th>offer_price</th>\n",
       "      <td>0.234492</td>\n",
       "      <td>0.380965</td>\n",
       "      <td>1.000000</td>\n",
       "      <td>0.885830</td>\n",
       "      <td>0.416653</td>\n",
       "      <td>-0.017665</td>\n",
       "      <td>0.012794</td>\n",
       "    </tr>\n",
       "    <tr>\n",
       "      <th>open_price</th>\n",
       "      <td>0.625786</td>\n",
       "      <td>0.766489</td>\n",
       "      <td>0.885830</td>\n",
       "      <td>1.000000</td>\n",
       "      <td>0.554533</td>\n",
       "      <td>0.005397</td>\n",
       "      <td>0.047086</td>\n",
       "    </tr>\n",
       "    <tr>\n",
       "      <th>star_rating</th>\n",
       "      <td>0.552827</td>\n",
       "      <td>0.528259</td>\n",
       "      <td>0.416653</td>\n",
       "      <td>0.554533</td>\n",
       "      <td>1.000000</td>\n",
       "      <td>-0.008800</td>\n",
       "      <td>0.087924</td>\n",
       "    </tr>\n",
       "    <tr>\n",
       "      <th>sp_chg_pct_week</th>\n",
       "      <td>0.046997</td>\n",
       "      <td>0.035205</td>\n",
       "      <td>-0.017665</td>\n",
       "      <td>0.005397</td>\n",
       "      <td>-0.008800</td>\n",
       "      <td>1.000000</td>\n",
       "      <td>0.011977</td>\n",
       "    </tr>\n",
       "    <tr>\n",
       "      <th>pct_chg_opencls</th>\n",
       "      <td>0.071590</td>\n",
       "      <td>0.076116</td>\n",
       "      <td>0.012794</td>\n",
       "      <td>0.047086</td>\n",
       "      <td>0.087924</td>\n",
       "      <td>0.011977</td>\n",
       "      <td>1.000000</td>\n",
       "    </tr>\n",
       "  </tbody>\n",
       "</table>\n",
       "</div>"
      ],
      "text/plain": [
       "                    gap_open_pct  dollar_change_open  offer_price  open_price  \\\n",
       "gap_open_pct            1.000000            0.922376     0.234492    0.625786   \n",
       "dollar_change_open      0.922376            1.000000     0.380965    0.766489   \n",
       "offer_price             0.234492            0.380965     1.000000    0.885830   \n",
       "open_price              0.625786            0.766489     0.885830    1.000000   \n",
       "star_rating             0.552827            0.528259     0.416653    0.554533   \n",
       "sp_chg_pct_week         0.046997            0.035205    -0.017665    0.005397   \n",
       "pct_chg_opencls         0.071590            0.076116     0.012794    0.047086   \n",
       "\n",
       "                    star_rating  sp_chg_pct_week  pct_chg_opencls  \n",
       "gap_open_pct           0.552827         0.046997         0.071590  \n",
       "dollar_change_open     0.528259         0.035205         0.076116  \n",
       "offer_price            0.416653        -0.017665         0.012794  \n",
       "open_price             0.554533         0.005397         0.047086  \n",
       "star_rating            1.000000        -0.008800         0.087924  \n",
       "sp_chg_pct_week       -0.008800         1.000000         0.011977  \n",
       "pct_chg_opencls        0.087924         0.011977         1.000000  "
      ]
     },
     "execution_count": 214,
     "metadata": {},
     "output_type": "execute_result"
    }
   ],
   "source": [
    "df[features_list].corr()"
   ]
  },
  {
   "cell_type": "code",
   "execution_count": 215,
   "metadata": {
    "collapsed": true
   },
   "outputs": [],
   "source": [
    "features_list_culled = ['month', 'day','offer_price','gap_open_pct','star_rating','sp_chg_pct_week', 'pct_chg_opencls']"
   ]
  },
  {
   "cell_type": "code",
   "execution_count": 216,
   "metadata": {
    "collapsed": true
   },
   "outputs": [],
   "source": [
    "X = pd.get_dummies(df[features_list_culled], drop_first = True)"
   ]
  },
  {
   "cell_type": "code",
   "execution_count": 217,
   "metadata": {
    "collapsed": true
   },
   "outputs": [],
   "source": [
    "#use a time-based split into train, test (past predicts future)\n",
    "y = X.pct_chg_opencls\n",
    "X = X.drop('pct_chg_opencls', axis = 1)\n",
    "\n",
    "X_train, X_test = X[:2500], X[2500:]"
   ]
  },
  {
   "cell_type": "code",
   "execution_count": 218,
   "metadata": {
    "collapsed": true
   },
   "outputs": [],
   "source": [
    "#turn into binary classification model\n",
    "#boundary = 1% IPO stock price increase measured from open to close\n",
    "y = y.map(lambda x: 1 if x >= 1.0 else 0)\n",
    "\n",
    "#use a time-based split into train, test (past predicts future)\n",
    "y_train = y[:2500]\n",
    "y_test = y[2500:]"
   ]
  },
  {
   "cell_type": "code",
   "execution_count": 219,
   "metadata": {},
   "outputs": [
    {
     "data": {
      "text/plain": [
       "0    1872\n",
       "1    1251\n",
       "Name: pct_chg_opencls, dtype: int64"
      ]
     },
     "execution_count": 219,
     "metadata": {},
     "output_type": "execute_result"
    }
   ],
   "source": [
    "y.value_counts()"
   ]
  },
  {
   "cell_type": "code",
   "execution_count": 220,
   "metadata": {
    "collapsed": true
   },
   "outputs": [],
   "source": [
    "clf = LogisticRegression()\n",
    "clf.fit(X_train, y_train)\n",
    "y_pred = clf.predict(X_test)"
   ]
  },
  {
   "cell_type": "code",
   "execution_count": 221,
   "metadata": {},
   "outputs": [
    {
     "name": "stdout",
     "output_type": "stream",
     "text": [
      "             precision    recall  f1-score   support\n",
      "\n",
      "          0       0.65      0.88      0.75       401\n",
      "          1       0.43      0.16      0.23       222\n",
      "\n",
      "avg / total       0.57      0.62      0.57       623\n",
      "\n"
     ]
    }
   ],
   "source": [
    "#model precision = 43%\n",
    "#clf.score(X_test, y_test)\n",
    "print(classification_report(y_test, y_pred)) "
   ]
  },
  {
   "cell_type": "code",
   "execution_count": 222,
   "metadata": {},
   "outputs": [
    {
     "data": {
      "text/plain": [
       "array([[354,  47],\n",
       "       [187,  35]], dtype=int64)"
      ]
     },
     "execution_count": 222,
     "metadata": {},
     "output_type": "execute_result"
    }
   ],
   "source": [
    "confusion_matrix(y_test, y_pred)"
   ]
  },
  {
   "cell_type": "code",
   "execution_count": 223,
   "metadata": {},
   "outputs": [
    {
     "name": "stdout",
     "output_type": "stream",
     "text": [
      "[[-0.00465464  0.00457164  0.24380748 -0.00564964  0.18544533  0.14416022\n",
      "   0.04058651 -0.24694459 -0.10654479 -0.17081018 -0.11414151 -0.16618461\n",
      "  -0.16714527 -0.17574824 -0.19060169  0.07246794 -0.0560945   0.10170591]]\n"
     ]
    }
   ],
   "source": [
    "#fitted coefficients\n",
    "baseline_coeff = clf.coef_\n",
    "print(baseline_coeff)"
   ]
  },
  {
   "cell_type": "code",
   "execution_count": null,
   "metadata": {
    "collapsed": true
   },
   "outputs": [],
   "source": []
  },
  {
   "cell_type": "markdown",
   "metadata": {},
   "source": [
    "### KNN Classifier"
   ]
  },
  {
   "cell_type": "code",
   "execution_count": 224,
   "metadata": {
    "collapsed": true
   },
   "outputs": [],
   "source": [
    "from sklearn.neighbors import KNeighborsClassifier\n",
    "from sklearn.model_selection import GridSearchCV\n",
    "from sklearn.pipeline import make_pipeline "
   ]
  },
  {
   "cell_type": "code",
   "execution_count": 225,
   "metadata": {
    "collapsed": true
   },
   "outputs": [],
   "source": [
    "#do grid search to find best n_neighbors for knn\n",
    "params = {'n_neighbors':[9,11,13,15,17,19,21,23,25,27,29,31,33,35,37,39]}\n",
    "#--> the n_neighbors we'll search over"
   ]
  },
  {
   "cell_type": "code",
   "execution_count": 226,
   "metadata": {},
   "outputs": [
    {
     "data": {
      "text/plain": [
       "dict_keys(['algorithm', 'leaf_size', 'metric', 'metric_params', 'n_jobs', 'n_neighbors', 'p', 'weights'])"
      ]
     },
     "execution_count": 226,
     "metadata": {},
     "output_type": "execute_result"
    }
   ],
   "source": [
    "#Check the list of available parameters\n",
    "KNeighborsClassifier().get_params().keys()"
   ]
  },
  {
   "cell_type": "code",
   "execution_count": 227,
   "metadata": {
    "collapsed": true
   },
   "outputs": [],
   "source": [
    "#most suitable score in the grid search for this project = precision\n",
    "#use 5 CV folds\n",
    "grid = GridSearchCV(KNeighborsClassifier(), param_grid=params, cv=5, scoring='precision')"
   ]
  },
  {
   "cell_type": "code",
   "execution_count": 228,
   "metadata": {},
   "outputs": [
    {
     "data": {
      "text/plain": [
       "KNeighborsClassifier(algorithm='auto', leaf_size=30, metric='minkowski',\n",
       "           metric_params=None, n_jobs=1, n_neighbors=31, p=2,\n",
       "           weights='uniform')"
      ]
     },
     "execution_count": 228,
     "metadata": {},
     "output_type": "execute_result"
    }
   ],
   "source": [
    "#fit model\n",
    "#looks like n_neighbors 31 is best\n",
    "grid.fit(X_train, y_train) \n",
    "grid.best_estimator_"
   ]
  },
  {
   "cell_type": "code",
   "execution_count": 229,
   "metadata": {
    "collapsed": true
   },
   "outputs": [],
   "source": [
    "#predictions with best n_neighbors\n",
    "best = grid.best_estimator_\n",
    "y_pred = best.predict(X_test)"
   ]
  },
  {
   "cell_type": "code",
   "execution_count": 230,
   "metadata": {},
   "outputs": [
    {
     "name": "stdout",
     "output_type": "stream",
     "text": [
      "             precision    recall  f1-score   support\n",
      "\n",
      "          0       0.68      0.75      0.71       401\n",
      "          1       0.44      0.36      0.40       222\n",
      "\n",
      "avg / total       0.59      0.61      0.60       623\n",
      "\n"
     ]
    }
   ],
   "source": [
    "#model precision = 44%\n",
    "#clf.score(X_test, y_test)\n",
    "print(classification_report(y_test, y_pred)) "
   ]
  },
  {
   "cell_type": "code",
   "execution_count": 231,
   "metadata": {},
   "outputs": [
    {
     "data": {
      "text/plain": [
       "array([[299, 102],\n",
       "       [142,  80]], dtype=int64)"
      ]
     },
     "execution_count": 231,
     "metadata": {},
     "output_type": "execute_result"
    }
   ],
   "source": [
    "confusion_matrix(y_test, y_pred)"
   ]
  },
  {
   "cell_type": "code",
   "execution_count": null,
   "metadata": {
    "collapsed": true
   },
   "outputs": [],
   "source": []
  },
  {
   "cell_type": "markdown",
   "metadata": {},
   "source": [
    "### Regularized Logistic Regression "
   ]
  },
  {
   "cell_type": "code",
   "execution_count": 232,
   "metadata": {
    "collapsed": true
   },
   "outputs": [],
   "source": [
    "from sklearn.linear_model import LogisticRegressionCV\n",
    "from sklearn.metrics import precision_recall_curve"
   ]
  },
  {
   "cell_type": "code",
   "execution_count": 233,
   "metadata": {},
   "outputs": [
    {
     "data": {
      "text/html": [
       "<div>\n",
       "<style>\n",
       "    .dataframe thead tr:only-child th {\n",
       "        text-align: right;\n",
       "    }\n",
       "\n",
       "    .dataframe thead th {\n",
       "        text-align: left;\n",
       "    }\n",
       "\n",
       "    .dataframe tbody tr th {\n",
       "        vertical-align: top;\n",
       "    }\n",
       "</style>\n",
       "<table border=\"1\" class=\"dataframe\">\n",
       "  <thead>\n",
       "    <tr style=\"text-align: right;\">\n",
       "      <th></th>\n",
       "      <th>offer_price</th>\n",
       "      <th>gap_open_pct</th>\n",
       "      <th>star_rating</th>\n",
       "      <th>sp_chg_pct_week</th>\n",
       "      <th>month_aug</th>\n",
       "      <th>month_dec</th>\n",
       "      <th>month_feb</th>\n",
       "      <th>month_jan</th>\n",
       "      <th>month_jul</th>\n",
       "      <th>month_jun</th>\n",
       "      <th>month_mar</th>\n",
       "      <th>month_may</th>\n",
       "      <th>month_nov</th>\n",
       "      <th>month_oct</th>\n",
       "      <th>month_sept</th>\n",
       "      <th>day_thurs</th>\n",
       "      <th>day_tues</th>\n",
       "      <th>day_weds</th>\n",
       "    </tr>\n",
       "    <tr>\n",
       "      <th>date</th>\n",
       "      <th></th>\n",
       "      <th></th>\n",
       "      <th></th>\n",
       "      <th></th>\n",
       "      <th></th>\n",
       "      <th></th>\n",
       "      <th></th>\n",
       "      <th></th>\n",
       "      <th></th>\n",
       "      <th></th>\n",
       "      <th></th>\n",
       "      <th></th>\n",
       "      <th></th>\n",
       "      <th></th>\n",
       "      <th></th>\n",
       "      <th></th>\n",
       "      <th></th>\n",
       "      <th></th>\n",
       "    </tr>\n",
       "  </thead>\n",
       "  <tbody>\n",
       "    <tr>\n",
       "      <th>2000-05-12</th>\n",
       "      <td>8.0</td>\n",
       "      <td>28.125000</td>\n",
       "      <td>2.0</td>\n",
       "      <td>-0.374697</td>\n",
       "      <td>0</td>\n",
       "      <td>0</td>\n",
       "      <td>0</td>\n",
       "      <td>0</td>\n",
       "      <td>0</td>\n",
       "      <td>0</td>\n",
       "      <td>0</td>\n",
       "      <td>1</td>\n",
       "      <td>0</td>\n",
       "      <td>0</td>\n",
       "      <td>0</td>\n",
       "      <td>1</td>\n",
       "      <td>0</td>\n",
       "      <td>0</td>\n",
       "    </tr>\n",
       "    <tr>\n",
       "      <th>2000-05-18</th>\n",
       "      <td>11.0</td>\n",
       "      <td>0.272727</td>\n",
       "      <td>1.0</td>\n",
       "      <td>5.090497</td>\n",
       "      <td>0</td>\n",
       "      <td>0</td>\n",
       "      <td>0</td>\n",
       "      <td>0</td>\n",
       "      <td>0</td>\n",
       "      <td>0</td>\n",
       "      <td>0</td>\n",
       "      <td>1</td>\n",
       "      <td>0</td>\n",
       "      <td>0</td>\n",
       "      <td>0</td>\n",
       "      <td>0</td>\n",
       "      <td>0</td>\n",
       "      <td>1</td>\n",
       "    </tr>\n",
       "    <tr>\n",
       "      <th>2000-05-18</th>\n",
       "      <td>12.0</td>\n",
       "      <td>-1.000000</td>\n",
       "      <td>1.0</td>\n",
       "      <td>5.090497</td>\n",
       "      <td>0</td>\n",
       "      <td>0</td>\n",
       "      <td>0</td>\n",
       "      <td>0</td>\n",
       "      <td>0</td>\n",
       "      <td>0</td>\n",
       "      <td>0</td>\n",
       "      <td>1</td>\n",
       "      <td>0</td>\n",
       "      <td>0</td>\n",
       "      <td>0</td>\n",
       "      <td>0</td>\n",
       "      <td>0</td>\n",
       "      <td>1</td>\n",
       "    </tr>\n",
       "    <tr>\n",
       "      <th>2000-05-18</th>\n",
       "      <td>20.0</td>\n",
       "      <td>100.000000</td>\n",
       "      <td>3.0</td>\n",
       "      <td>5.090497</td>\n",
       "      <td>0</td>\n",
       "      <td>0</td>\n",
       "      <td>0</td>\n",
       "      <td>0</td>\n",
       "      <td>0</td>\n",
       "      <td>0</td>\n",
       "      <td>0</td>\n",
       "      <td>1</td>\n",
       "      <td>0</td>\n",
       "      <td>0</td>\n",
       "      <td>0</td>\n",
       "      <td>0</td>\n",
       "      <td>0</td>\n",
       "      <td>1</td>\n",
       "    </tr>\n",
       "    <tr>\n",
       "      <th>2000-05-18</th>\n",
       "      <td>10.0</td>\n",
       "      <td>15.000000</td>\n",
       "      <td>2.0</td>\n",
       "      <td>5.090497</td>\n",
       "      <td>0</td>\n",
       "      <td>0</td>\n",
       "      <td>0</td>\n",
       "      <td>0</td>\n",
       "      <td>0</td>\n",
       "      <td>0</td>\n",
       "      <td>0</td>\n",
       "      <td>1</td>\n",
       "      <td>0</td>\n",
       "      <td>0</td>\n",
       "      <td>0</td>\n",
       "      <td>0</td>\n",
       "      <td>0</td>\n",
       "      <td>1</td>\n",
       "    </tr>\n",
       "  </tbody>\n",
       "</table>\n",
       "</div>"
      ],
      "text/plain": [
       "            offer_price  gap_open_pct  star_rating  sp_chg_pct_week  \\\n",
       "date                                                                  \n",
       "2000-05-12          8.0     28.125000          2.0        -0.374697   \n",
       "2000-05-18         11.0      0.272727          1.0         5.090497   \n",
       "2000-05-18         12.0     -1.000000          1.0         5.090497   \n",
       "2000-05-18         20.0    100.000000          3.0         5.090497   \n",
       "2000-05-18         10.0     15.000000          2.0         5.090497   \n",
       "\n",
       "            month_aug  month_dec  month_feb  month_jan  month_jul  month_jun  \\\n",
       "date                                                                           \n",
       "2000-05-12          0          0          0          0          0          0   \n",
       "2000-05-18          0          0          0          0          0          0   \n",
       "2000-05-18          0          0          0          0          0          0   \n",
       "2000-05-18          0          0          0          0          0          0   \n",
       "2000-05-18          0          0          0          0          0          0   \n",
       "\n",
       "            month_mar  month_may  month_nov  month_oct  month_sept  day_thurs  \\\n",
       "date                                                                            \n",
       "2000-05-12          0          1          0          0           0          1   \n",
       "2000-05-18          0          1          0          0           0          0   \n",
       "2000-05-18          0          1          0          0           0          0   \n",
       "2000-05-18          0          1          0          0           0          0   \n",
       "2000-05-18          0          1          0          0           0          0   \n",
       "\n",
       "            day_tues  day_weds  \n",
       "date                            \n",
       "2000-05-12         0         0  \n",
       "2000-05-18         0         1  \n",
       "2000-05-18         0         1  \n",
       "2000-05-18         0         1  \n",
       "2000-05-18         0         1  "
      ]
     },
     "execution_count": 233,
     "metadata": {},
     "output_type": "execute_result"
    }
   ],
   "source": [
    "X.head()"
   ]
  },
  {
   "cell_type": "code",
   "execution_count": 234,
   "metadata": {},
   "outputs": [
    {
     "data": {
      "text/plain": [
       "date\n",
       "2000-05-12    0\n",
       "2000-05-18    0\n",
       "2000-05-18    0\n",
       "2000-05-18    1\n",
       "2000-05-18    1\n",
       "Name: pct_chg_opencls, dtype: int64"
      ]
     },
     "execution_count": 234,
     "metadata": {},
     "output_type": "execute_result"
    }
   ],
   "source": [
    "y.head()"
   ]
  },
  {
   "cell_type": "code",
   "execution_count": null,
   "metadata": {
    "collapsed": true
   },
   "outputs": [],
   "source": []
  },
  {
   "cell_type": "code",
   "execution_count": null,
   "metadata": {
    "collapsed": true
   },
   "outputs": [],
   "source": []
  },
  {
   "cell_type": "markdown",
   "metadata": {},
   "source": [
    "### Ridge Regression"
   ]
  },
  {
   "cell_type": "code",
   "execution_count": 235,
   "metadata": {
    "collapsed": true
   },
   "outputs": [],
   "source": [
    "#precision is our chosen score\n",
    "#the best hyperparameter 'C' is selected by the cross-validator \n",
    "clf = LogisticRegressionCV(scoring='precision', penalty='l2', cv=5, random_state=3001)"
   ]
  },
  {
   "cell_type": "code",
   "execution_count": 236,
   "metadata": {},
   "outputs": [
    {
     "data": {
      "text/plain": [
       "LogisticRegressionCV(Cs=10, class_weight=None, cv=5, dual=False,\n",
       "           fit_intercept=True, intercept_scaling=1.0, max_iter=100,\n",
       "           multi_class='ovr', n_jobs=1, penalty='l2', random_state=3001,\n",
       "           refit=True, scoring='precision', solver='lbfgs', tol=0.0001,\n",
       "           verbose=0)"
      ]
     },
     "execution_count": 236,
     "metadata": {},
     "output_type": "execute_result"
    }
   ],
   "source": [
    "clf.fit(X_train, y_train)"
   ]
  },
  {
   "cell_type": "code",
   "execution_count": 237,
   "metadata": {},
   "outputs": [
    {
     "data": {
      "text/plain": [
       "array([ 0.00599484])"
      ]
     },
     "execution_count": 237,
     "metadata": {},
     "output_type": "execute_result"
    }
   ],
   "source": [
    "clf.C_ #--> check the best 'C' param found during CV process"
   ]
  },
  {
   "cell_type": "code",
   "execution_count": 238,
   "metadata": {
    "collapsed": true
   },
   "outputs": [],
   "source": [
    "y_pred = clf.predict(X_test)"
   ]
  },
  {
   "cell_type": "code",
   "execution_count": 239,
   "metadata": {},
   "outputs": [
    {
     "name": "stdout",
     "output_type": "stream",
     "text": [
      "             precision    recall  f1-score   support\n",
      "\n",
      "          0       0.66      0.92      0.77       401\n",
      "          1       0.48      0.13      0.20       222\n",
      "\n",
      "avg / total       0.59      0.64      0.57       623\n",
      "\n"
     ]
    }
   ],
   "source": [
    "#model precision = 48%\n",
    "#clf.score(X_test, y_test)\n",
    "print(classification_report(y_test, y_pred)) "
   ]
  },
  {
   "cell_type": "code",
   "execution_count": 240,
   "metadata": {},
   "outputs": [
    {
     "data": {
      "text/plain": [
       "array([[369,  32],\n",
       "       [193,  29]], dtype=int64)"
      ]
     },
     "execution_count": 240,
     "metadata": {},
     "output_type": "execute_result"
    }
   ],
   "source": [
    "confusion_matrix(y_test, y_pred)"
   ]
  },
  {
   "cell_type": "code",
   "execution_count": 241,
   "metadata": {},
   "outputs": [
    {
     "name": "stdout",
     "output_type": "stream",
     "text": [
      "[[-0.00105835  0.00614507  0.1566297  -0.00407563  0.06572162  0.05139573\n",
      "   0.02362994 -0.02332257 -0.00625165 -0.02461041 -0.00588204 -0.0235958\n",
      "  -0.02614302 -0.03103238 -0.01879257  0.01830067 -0.03786674  0.03824127]]\n"
     ]
    }
   ],
   "source": [
    "#fitted coefficients\n",
    "ridge_coeff = clf.coef_\n",
    "print(ridge_coeff)"
   ]
  },
  {
   "cell_type": "code",
   "execution_count": null,
   "metadata": {
    "collapsed": true
   },
   "outputs": [],
   "source": []
  },
  {
   "cell_type": "markdown",
   "metadata": {},
   "source": [
    "#### Change the threshold, check precision score"
   ]
  },
  {
   "cell_type": "code",
   "execution_count": 242,
   "metadata": {
    "collapsed": true
   },
   "outputs": [],
   "source": [
    "precision, recall, thresholds = precision_recall_curve(y_test, clf.decision_function(X_test))"
   ]
  },
  {
   "cell_type": "code",
   "execution_count": 243,
   "metadata": {},
   "outputs": [
    {
     "data": {
      "text/plain": [
       "<matplotlib.legend.Legend at 0x151b18d0>"
      ]
     },
     "execution_count": 243,
     "metadata": {},
     "output_type": "execute_result"
    },
    {
     "data": {
      "image/png": "[encoded data removed]",
      "text/plain": [
       "<matplotlib.figure.Figure at 0x15078128>"
      ]
     },
     "metadata": {},
     "output_type": "display_data"
    }
   ],
   "source": [
    "plt.plot(thresholds, precision[1:],  label = 'precision')\n",
    "plt.plot(thresholds, recall[1:], label = 'recall')\n",
    "plt.legend()"
   ]
  },
  {
   "cell_type": "markdown",
   "metadata": {},
   "source": [
    "#### For balance between precision and recall, adjust the threshold accordingly\n",
    "- check impact of changing threshold; the threshold determines how records are classified into the binary classes  \n",
    "- exceeding the adjusted threshold results in predicting class1  \n",
    "- threshold is defined in terms of \"log odds\", not probability"
   ]
  },
  {
   "cell_type": "code",
   "execution_count": 244,
   "metadata": {
    "collapsed": true
   },
   "outputs": [],
   "source": [
    "adj_thresh = clf.decision_function(X_test) > +0.35\n",
    "#--> array of bool's (0 or 1), based on whether log odds are > or < threshold\n",
    "#--> 0 = assign to class0, 1 = assign to class1"
   ]
  },
  {
   "cell_type": "code",
   "execution_count": 245,
   "metadata": {},
   "outputs": [
    {
     "name": "stdout",
     "output_type": "stream",
     "text": [
      "             precision    recall  f1-score   support\n",
      "\n",
      "          0       0.65      0.99      0.78       401\n",
      "          1       0.50      0.01      0.03       222\n",
      "\n",
      "avg / total       0.59      0.64      0.51       623\n",
      "\n"
     ]
    }
   ],
   "source": [
    "#check scores with adjusted threshold\n",
    "print(classification_report(y_test, adj_thresh))"
   ]
  },
  {
   "cell_type": "markdown",
   "metadata": {},
   "source": [
    "#### Conclusion: do not raise the threshold, penalizes recall too much. Leave it at zero by default."
   ]
  },
  {
   "cell_type": "code",
   "execution_count": null,
   "metadata": {
    "collapsed": true
   },
   "outputs": [],
   "source": []
  },
  {
   "cell_type": "markdown",
   "metadata": {},
   "source": [
    "### Lasso Regression"
   ]
  },
  {
   "cell_type": "code",
   "execution_count": 246,
   "metadata": {
    "collapsed": true
   },
   "outputs": [],
   "source": [
    "#solver: ‘liblinear’ and ‘saga’ handle L1 penalty\n",
    "clf = LogisticRegressionCV(scoring='precision', penalty='l1', cv=5, solver='liblinear', random_state=3001) "
   ]
  },
  {
   "cell_type": "code",
   "execution_count": 247,
   "metadata": {},
   "outputs": [
    {
     "name": "stderr",
     "output_type": "stream",
     "text": [
      "C:\\Program Files (x86)\\Microsoft Visual Studio\\Shared\\Anaconda3_64\\lib\\site-packages\\sklearn\\metrics\\classification.py:1135: UndefinedMetricWarning: Precision is ill-defined and being set to 0.0 due to no predicted samples.\n",
      "  'precision', 'predicted', average, warn_for)\n"
     ]
    },
    {
     "data": {
      "text/plain": [
       "LogisticRegressionCV(Cs=10, class_weight=None, cv=5, dual=False,\n",
       "           fit_intercept=True, intercept_scaling=1.0, max_iter=100,\n",
       "           multi_class='ovr', n_jobs=1, penalty='l1', random_state=3001,\n",
       "           refit=True, scoring='precision', solver='liblinear', tol=0.0001,\n",
       "           verbose=0)"
      ]
     },
     "execution_count": 247,
     "metadata": {},
     "output_type": "execute_result"
    }
   ],
   "source": [
    "clf.fit(X_train, y_train)"
   ]
  },
  {
   "cell_type": "code",
   "execution_count": 248,
   "metadata": {},
   "outputs": [
    {
     "data": {
      "text/plain": [
       "array([ 0.35938137])"
      ]
     },
     "execution_count": 248,
     "metadata": {},
     "output_type": "execute_result"
    }
   ],
   "source": [
    "clf.C_ #--> check the best 'C' param found during CV process"
   ]
  },
  {
   "cell_type": "code",
   "execution_count": 249,
   "metadata": {
    "collapsed": true
   },
   "outputs": [],
   "source": [
    "y_pred = clf.predict(X_test)"
   ]
  },
  {
   "cell_type": "code",
   "execution_count": 250,
   "metadata": {},
   "outputs": [
    {
     "name": "stdout",
     "output_type": "stream",
     "text": [
      "             precision    recall  f1-score   support\n",
      "\n",
      "          0       0.66      0.91      0.76       401\n",
      "          1       0.46      0.14      0.22       222\n",
      "\n",
      "avg / total       0.59      0.64      0.57       623\n",
      "\n"
     ]
    }
   ],
   "source": [
    "#model precision = 46%\n",
    "#clf.score(X_test, y_test)\n",
    "print(classification_report(y_test, y_pred)) "
   ]
  },
  {
   "cell_type": "code",
   "execution_count": 251,
   "metadata": {},
   "outputs": [
    {
     "data": {
      "text/plain": [
       "array([[364,  37],\n",
       "       [190,  32]], dtype=int64)"
      ]
     },
     "execution_count": 251,
     "metadata": {},
     "output_type": "execute_result"
    }
   ],
   "source": [
    "confusion_matrix(y_test, y_pred)"
   ]
  },
  {
   "cell_type": "code",
   "execution_count": 252,
   "metadata": {},
   "outputs": [
    {
     "name": "stdout",
     "output_type": "stream",
     "text": [
      "[[-0.00534785  0.00484589  0.22506365 -0.00335463  0.24912222  0.20183294\n",
      "   0.09046539 -0.02512584  0.         -0.01299961  0.         -0.00371405\n",
      "  -0.01365799 -0.0243882   0.          0.01056464 -0.07691652  0.04943382]]\n"
     ]
    }
   ],
   "source": [
    "#fitted coefficients\n",
    "lasso_coeff = clf.coef_\n",
    "print(lasso_coeff)"
   ]
  },
  {
   "cell_type": "code",
   "execution_count": null,
   "metadata": {
    "collapsed": true
   },
   "outputs": [],
   "source": []
  },
  {
   "cell_type": "markdown",
   "metadata": {},
   "source": [
    "### Plot the regularized coefficients"
   ]
  },
  {
   "cell_type": "code",
   "execution_count": 263,
   "metadata": {},
   "outputs": [
    {
     "data": {
      "text/plain": [
       "<matplotlib.legend.Legend at 0x17645da0>"
      ]
     },
     "execution_count": 263,
     "metadata": {},
     "output_type": "execute_result"
    },
    {
     "data": {
      "image/png": "[encoded data removed]",
      "text/plain": [
       "<matplotlib.figure.Figure at 0x1744dcf8>"
      ]
     },
     "metadata": {},
     "output_type": "display_data"
    }
   ],
   "source": [
    "#regularization shrinks fitted coeff's\n",
    "\n",
    "nr_feat = len(X_train.columns)\n",
    "\n",
    "plt.figure(figsize = (12, 8))\n",
    "plt.plot(baseline_coeff.T, 's', label = 'Logistic')\n",
    "plt.plot(ridge_coeff.T, 'o', label = 'Ridge')\n",
    "plt.plot(lasso_coeff.T, 'v', label = 'Lasso')\n",
    "plt.xticks(np.arange(nr_feat),X_train.columns, rotation = 90)\n",
    "plt.axhline(color = 'black')\n",
    "plt.legend()"
   ]
  },
  {
   "cell_type": "code",
   "execution_count": null,
   "metadata": {
    "collapsed": true
   },
   "outputs": [],
   "source": []
  },
  {
   "cell_type": "markdown",
   "metadata": {
    "collapsed": true
   },
   "source": [
    "### Results: unable to achieve precision score > 50%. The IPO market is efficient or the features are not predictive.\n",
    "- baseline logistic precision = 43%  \n",
    "- baseline2 logistic precision = 43%  \n",
    "- KNN precision = 44%  \n",
    "- Ridge unscaled precision = 48%\n",
    "- Lasso unscaled precision = 46%"
   ]
  },
  {
   "cell_type": "markdown",
   "metadata": {
    "collapsed": true
   },
   "source": [
    "### TODO:\n",
    "- scale the numerical features in X, before applying regularized methods\n",
    "- numeric features: offer_price, gap_open_pct, sp_chg_pct_week\n",
    "- how do we apply scaling only to numeric features? (omitting categorical features)"
   ]
  },
  {
   "cell_type": "code",
   "execution_count": null,
   "metadata": {
    "collapsed": true
   },
   "outputs": [],
   "source": []
  }
 ],
 "metadata": {
  "kernelspec": {
   "display_name": "Python 3",
   "language": "python",
   "name": "python3"
  },
  "language_info": {
   "codemirror_mode": {
    "name": "ipython",
    "version": 3
   },
   "file_extension": ".py",
   "mimetype": "text/x-python",
   "name": "python",
   "nbconvert_exporter": "python",
   "pygments_lexer": "ipython3",
   "version": "3.6.2"
  }
 },
 "nbformat": 4,
 "nbformat_minor": 2
}
